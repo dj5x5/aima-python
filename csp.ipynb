{
 "cells": [
  {
   "cell_type": "markdown",
   "metadata": {
    "collapsed": false
   },
   "source": [
    "# Constraint Satisfaction Problems (CSPs)\n",
    "\n",
    "This IPy notebook acts as supporting material for topics covered in **Chapter 6 Constraint Satisfaction Problems** of the book* Artificial Intelligence: A Modern Approach*. We make use of the implementations in **csp.py** module. Even though this notebook includes a brief summary of the main topics familiarity with the material present in the book is expected. We will look at some visualizations and solve some of the CSP problems described in the book. Let us import everything from the csp module to get started."
   ]
  },
  {
   "cell_type": "code",
   "execution_count": 1,
   "metadata": {
    "collapsed": true
   },
   "outputs": [],
   "source": [
    "from csp import *"
   ]
  },
  {
   "cell_type": "markdown",
   "metadata": {},
   "source": [
    "## Review\n",
    "\n",
    "CSPs are a special kind of search problems. Here we don't treat the space as a black box but the state has a particular form and we use that to our advantage to tweak our algorithms to be more suited to the problems. A CSP State is defined by a set of variables which can take values from corresponding domains. These variables can take only certain values in their domains to satisfy the constraints. A set of assignments which satisfies all constraints passes the goal test. Let us start by exploring the CSP class which we will use to model our CSPs. You can keep the popup open and read the main page to get a better idea of the code.\n"
   ]
  },
  {
   "cell_type": "code",
   "execution_count": 2,
   "metadata": {
    "collapsed": false
   },
   "outputs": [],
   "source": [
    "%psource CSP"
   ]
  },
  {
   "cell_type": "markdown",
   "metadata": {},
   "source": [
    "The __ _ _init_ _ __ method parameters specify the CSP. Variable can be passed as a list of strings or integers. Domains are passed as dict where key specify the variables and value specify the domains. The variables are passed as an empty list. Variables are extracted from the keys of the domain dictionary. Neighbor is a dict of variables that essentially describes the constraint graph. Here each variable key has a list its value which are the variables that are constraint along with it. The constraint parameter should be a function **f(A, a, B, b**) that **returns true** if neighbors A, B **satisfy the constraint** when they have values **A=a, B=b**. We have additional parameters like nassings which is incremented each time an assignment is made when calling the assign method. You can read more about the methods and parameters in the class doc string. We will talk more about them as we encounter their use. Let us jump to an example."
   ]
  },
  {
   "cell_type": "markdown",
   "metadata": {},
   "source": [
    "## Graph Coloring\n",
    "\n",
    "We use the graph coloring problem as our running example for demonstrating the different algorithms in the **csp module**. The idea of map coloring problem is that the adjacent nodes (those connected by edges) should not have the same color throughout the graph. The graph can be colored using a fixed number of colors. Here each node is a variable and the values are the colors that can be assigned to them. Given that the domain will be the same for all our nodes we use a custom dict defined by the **UniversalDict** class. The **UniversalDict** Class takes in a parameter which it returns as value for all the keys of the dict. It is very similar to **defaultdict** in Python except that it does not support item assignment."
   ]
  },
  {
   "cell_type": "code",
   "execution_count": 3,
   "metadata": {
    "collapsed": false
   },
   "outputs": [
    {
     "data": {
      "text/plain": [
       "['R', 'G', 'B']"
      ]
     },
     "execution_count": 3,
     "metadata": {},
     "output_type": "execute_result"
    }
   ],
   "source": [
    "s = UniversalDict(['R','G','B'])\n",
    "s[5]"
   ]
  },
  {
   "cell_type": "markdown",
   "metadata": {},
   "source": [
    "For our CSP we also need to define a constraint function **f(A, a, B, b)**. In this what we need is that the neighbors must not have the same color. This is defined in the function **different_values_constraint** of the module."
   ]
  },
  {
   "cell_type": "code",
   "execution_count": 4,
   "metadata": {
    "collapsed": true
   },
   "outputs": [],
   "source": [
    "%psource different_values_constraint"
   ]
  },
  {
   "cell_type": "markdown",
   "metadata": {},
   "source": [
    "The CSP class takes neighbors in the form of a Dict. The module specifies a simple helper function named **parse_neighbors** which allows to take input in the form of strings and return a Dict of the form compatible with the **CSP Class**."
   ]
  },
  {
   "cell_type": "code",
   "execution_count": 5,
   "metadata": {
    "collapsed": true
   },
   "outputs": [],
   "source": [
    "%pdoc parse_neighbors"
   ]
  },
  {
   "cell_type": "markdown",
   "metadata": {},
   "source": [
    "The **MapColoringCSP** function creates and returns a CSP with the above constraint function and states. The variables our the keys of the neighbors dict and the constraint is the one specified by the **different_values_constratint** function. **australia**, **usa** and **france** are three CSPs that have been created using **MapColoringCSP**. **australia** corresponds to ** Figure 6.1 ** in the book."
   ]
  },
  {
   "cell_type": "code",
   "execution_count": 6,
   "metadata": {
    "collapsed": true
   },
   "outputs": [],
   "source": [
    "%psource MapColoringCSP"
   ]
  },
  {
   "cell_type": "code",
   "execution_count": 7,
   "metadata": {
    "collapsed": false
   },
   "outputs": [
    {
     "data": {
      "text/plain": [
       "(<csp.CSP at 0x7f79ec25ca90>,\n",
       " <csp.CSP at 0x7f79ec262a90>,\n",
       " <csp.CSP at 0x7f79ec262b38>)"
      ]
     },
     "execution_count": 7,
     "metadata": {},
     "output_type": "execute_result"
    }
   ],
   "source": [
    "australia, usa, france"
   ]
  },
  {
   "cell_type": "markdown",
   "metadata": {},
   "source": [
    "### Helper Functions\n",
    "\n",
    "We will now implement few helper functions that will help us visualize the Coloring Problem. We will make some modifications to the existing Classes and Functions for additional book keeping. To begin with we modify the **assign** and **unassign** methods in the **CSP** to add a copy of the assignment to the **assingment_history**. We call this new class **InstruCSP**. This would allow us to see how the assignment evolves over time."
   ]
  },
  {
   "cell_type": "code",
   "execution_count": 8,
   "metadata": {
    "collapsed": true
   },
   "outputs": [],
   "source": [
    "import copy\n",
    "class InstruCSP(CSP):\n",
    "    \n",
    "    def __init__(self, variables, domains, neighbors, constraints):\n",
    "        super().__init__(variables, domains, neighbors, constraints)\n",
    "        self.assingment_history = []\n",
    "        \n",
    "    def assign(self, var, val, assignment):\n",
    "        super().assign(var,val, assignment)\n",
    "        self.assingment_history.append(copy.deepcopy(assignment))\n",
    "    \n",
    "    def unassign(self, var, assignment):\n",
    "        super().unassign(var,assignment)\n",
    "        self.assingment_history.append(copy.deepcopy(assignment)) "
   ]
  },
  {
   "cell_type": "markdown",
   "metadata": {},
   "source": [
    "Next, we define **make_instru** which takes an instance of **CSP** and returns a **InstruCSP** instance. "
   ]
  },
  {
   "cell_type": "code",
   "execution_count": 9,
   "metadata": {
    "collapsed": true
   },
   "outputs": [],
   "source": [
    "def make_instru(csp):\n",
    "    return InstruCSP(csp.variables, csp.domains, csp.neighbors,\n",
    "               csp.constraints)"
   ]
  },
  {
   "cell_type": "markdown",
   "metadata": {},
   "source": [
    "We will now use a graph defined as a dictonary for plotting purposes in our Graph Coloring Problem. The keys are the nodes and their corresponding values are the nodes are they are connected to."
   ]
  },
  {
   "cell_type": "code",
   "execution_count": 10,
   "metadata": {
    "collapsed": true
   },
   "outputs": [],
   "source": [
    "neighbors = {\n",
    "    0: [6, 11, 15, 18, 4, 11, 6, 15, 18, 4], \n",
    "    1: [12, 12, 14, 14], \n",
    "    2: [17, 6, 11, 6, 11, 10, 17, 14, 10, 14], \n",
    "    3: [20, 8, 19, 12, 20, 19, 8, 12], \n",
    "    4: [11, 0, 18, 5, 18, 5, 11, 0], \n",
    "    5: [4, 4], \n",
    "    6: [8, 15, 0, 11, 2, 14, 8, 11, 15, 2, 0, 14], \n",
    "    7: [13, 16, 13, 16], \n",
    "    8: [19, 15, 6, 14, 12, 3, 6, 15, 19, 12, 3, 14], \n",
    "    9: [20, 15, 19, 16, 15, 19, 20, 16], \n",
    "    10: [17, 11, 2, 11, 17, 2], \n",
    "    11: [6, 0, 4, 10, 2, 6, 2, 0, 10, 4], \n",
    "    12: [8, 3, 8, 14, 1, 3, 1, 14], \n",
    "    13: [7, 15, 18, 15, 16, 7, 18, 16], \n",
    "    14: [8, 6, 2, 12, 1, 8, 6, 2, 1, 12], \n",
    "    15: [8, 6, 16, 13, 18, 0, 6, 8, 19, 9, 0, 19, 13, 18, 9, 16], \n",
    "    16: [7, 15, 13, 9, 7, 13, 15, 9], \n",
    "    17: [10, 2, 2, 10], \n",
    "    18: [15, 0, 13, 4, 0, 15, 13, 4], \n",
    "    19: [20, 8, 15, 9, 15, 8, 3, 20, 3, 9], \n",
    "    20: [3, 19, 9, 19, 3, 9]\n",
    "}"
   ]
  },
  {
   "cell_type": "markdown",
   "metadata": {},
   "source": [
    "Now we are ready to create an InstruCSP instance for our problem. We are doing this for an instance of **MapColoringProblem** class which inherits from the **CSP** Class. This means that our **make_instru** function will work perfectly for it."
   ]
  },
  {
   "cell_type": "code",
   "execution_count": 11,
   "metadata": {
    "collapsed": true
   },
   "outputs": [],
   "source": [
    "coloring_problem = MapColoringCSP('RGBY', neighbors)"
   ]
  },
  {
   "cell_type": "code",
   "execution_count": 12,
   "metadata": {
    "collapsed": false
   },
   "outputs": [],
   "source": [
    "coloring_problem1 = make_instru(coloring_problem)"
   ]
  },
  {
   "cell_type": "markdown",
   "metadata": {},
   "source": [
    "# Backtracking Search\n",
    "\n",
    "For solving a CSP the main issue with Naive search algorithms is that they can continue expanding obviously wrong paths. In backtracking search, we check constraints as we go. Backtracking is just the above idea combined with the fact that we are dealing with one variable at a time. Backtracking Search is implemented in the repository as the function **backtracking_search**. This is the same as **Figure 6.5** in the book. The function takes as input a CSP and few other optional parameters which can be used to further speed it up. The function returns the correct assignment if it satisfies the goal. We will discuss these later. Let us solve our **coloring_problem1** with **backtracking_search**.\n"
   ]
  },
  {
   "cell_type": "code",
   "execution_count": 13,
   "metadata": {
    "collapsed": true
   },
   "outputs": [],
   "source": [
    "result = backtracking_search(coloring_problem1)"
   ]
  },
  {
   "cell_type": "code",
   "execution_count": 14,
   "metadata": {
    "collapsed": false
   },
   "outputs": [
    {
     "data": {
      "text/plain": [
       "{0: 'R',\n",
       " 1: 'R',\n",
       " 2: 'R',\n",
       " 3: 'R',\n",
       " 4: 'G',\n",
       " 5: 'R',\n",
       " 6: 'G',\n",
       " 7: 'R',\n",
       " 8: 'B',\n",
       " 9: 'R',\n",
       " 10: 'G',\n",
       " 11: 'B',\n",
       " 12: 'G',\n",
       " 13: 'G',\n",
       " 14: 'Y',\n",
       " 15: 'Y',\n",
       " 16: 'B',\n",
       " 17: 'B',\n",
       " 18: 'B',\n",
       " 19: 'G',\n",
       " 20: 'B'}"
      ]
     },
     "execution_count": 14,
     "metadata": {},
     "output_type": "execute_result"
    }
   ],
   "source": [
    "result # A dictonary of assingments."
   ]
  },
  {
   "cell_type": "markdown",
   "metadata": {},
   "source": [
    "Let us also check the number of assingments made."
   ]
  },
  {
   "cell_type": "code",
   "execution_count": 15,
   "metadata": {
    "collapsed": false
   },
   "outputs": [
    {
     "data": {
      "text/plain": [
       "21"
      ]
     },
     "execution_count": 15,
     "metadata": {},
     "output_type": "execute_result"
    }
   ],
   "source": [
    "coloring_problem1.nassigns"
   ]
  },
  {
   "cell_type": "markdown",
   "metadata": {},
   "source": [
    "Now let us check the total number of assingments and unassingments which is the lentgh ofour assingment history."
   ]
  },
  {
   "cell_type": "code",
   "execution_count": 16,
   "metadata": {
    "collapsed": false
   },
   "outputs": [
    {
     "data": {
      "text/plain": [
       "21"
      ]
     },
     "execution_count": 16,
     "metadata": {},
     "output_type": "execute_result"
    }
   ],
   "source": [
    "len(coloring_problem1.assingment_history)"
   ]
  },
  {
   "cell_type": "markdown",
   "metadata": {},
   "source": [
    "### Visualization\n",
    "\n",
    "Next, we define some functions to create the visualisation from the assingment_history of **coloring_problem1**. The reader need not concern himself with the code that immediately follows as it is the usage of Matplotib with IPython Widgets. If you are interested in reading more about these visit [ipywidgets.readthedocs.io](http://ipywidgets.readthedocs.io). We will be using the **networkx** library to generate graphs. These graphs can be treated as the graph that needs to be colored or as a constraint graph for this problem. If interested you can read a dead simple tutorial [here](https://www.udacity.com/wiki/creating-network-graphs-with-python). We start by importing the necessary libraries and initializing matplotlib inline.\n"
   ]
  },
  {
   "cell_type": "code",
   "execution_count": 17,
   "metadata": {
    "collapsed": true
   },
   "outputs": [],
   "source": [
    "%matplotlib inline\n",
    "import networkx as nx\n",
    "import matplotlib.pyplot as plt\n",
    "import matplotlib\n",
    "import time"
   ]
  },
  {
   "cell_type": "markdown",
   "metadata": {},
   "source": [
    "The ipython widgets we will be using require the plots in the form of a step function such that there is a graph corresponding to each value. We define the **make_update_step_function** which return such a function. It takes in as inputs the neighbors/graph along with an instance of the **InstruCSP**. This will be more clear with the example below. If this sounds confusing do not worry this is not the part of the core material and our only goal is to help you visualize how the process works."
   ]
  },
  {
   "cell_type": "code",
   "execution_count": 18,
   "metadata": {
    "collapsed": true
   },
   "outputs": [],
   "source": [
    "def make_update_step_function(graph, instru_csp):\n",
    "    \n",
    "    def draw_graph(graph):\n",
    "        # create networkx graph\n",
    "        G=nx.Graph(graph)\n",
    "        # draw graph\n",
    "        pos = nx.spring_layout(G,k=0.15)\n",
    "        return (G, pos)\n",
    "    \n",
    "    G, pos = draw_graph(graph)\n",
    "    \n",
    "    def update_step(iteration):\n",
    "        # here iteration is the index of the assingment_history we want to visualize.\n",
    "        current = instru_csp.assingment_history[iteration]\n",
    "        #  We convert the particular assingment to a default dict so that the color for nodes which \n",
    "        # have not been assigned defaults to black.\n",
    "        current = defaultdict(lambda: 'Black', current)\n",
    "\n",
    "        # Now we use colors in the list and default to black otherwise.\n",
    "        colors = [current[node] for node in G.node.keys()]\n",
    "        # Finally drawing the nodes.\n",
    "        nx.draw(G, pos, node_color=colors, node_size=500)\n",
    "\n",
    "        labels = {label:label for label in G.node}\n",
    "        # Labels shifted by offset so as to not overlap nodes.\n",
    "        label_pos = {key:[value[0], value[1]+0.03] for key, value in pos.items()}\n",
    "        nx.draw_networkx_labels(G, label_pos, labels, font_size=20)\n",
    "\n",
    "        # show graph\n",
    "        plt.show()\n",
    "\n",
    "    return update_step  # <-- this is a function\n",
    "\n",
    "def make_visualize(slider):\n",
    "    ''' Takes an input a slider and returns \n",
    "        callback function for timer and animation\n",
    "    '''\n",
    "    \n",
    "    def visualize_callback(Visualize, time_step):\n",
    "        if Visualize is True:\n",
    "            for i in range(slider.min, slider.max + 1):\n",
    "                slider.value = i\n",
    "                time.sleep(float(time_step))\n",
    "    \n",
    "    return visualize_callback\n",
    "    "
   ]
  },
  {
   "cell_type": "markdown",
   "metadata": {},
   "source": [
    "Finally let us plot our problem. We first use the function above to obtain a step function."
   ]
  },
  {
   "cell_type": "code",
   "execution_count": 19,
   "metadata": {
    "collapsed": true
   },
   "outputs": [],
   "source": [
    "step_func = make_update_step_function(neighbors, coloring_problem1)"
   ]
  },
  {
   "cell_type": "markdown",
   "metadata": {},
   "source": [
    "Next we set the canvas size."
   ]
  },
  {
   "cell_type": "code",
   "execution_count": 20,
   "metadata": {
    "collapsed": true
   },
   "outputs": [],
   "source": [
    "matplotlib.rcParams['figure.figsize'] = (18.0, 18.0)"
   ]
  },
  {
   "cell_type": "markdown",
   "metadata": {},
   "source": [
    "Finally our plot using ipywidget slider and matplotib. You can move the slider to experiment and see the coloring change. It is also possible to move the slider using arrow keys or to jump to the value by directly editing the number with a double click. The **Visualize Button** will automatically animate the slider for you. The **Extra Delay Box** allows you to set time delay in seconds upto one second for each time step."
   ]
  },
  {
   "cell_type": "code",
   "execution_count": 21,
   "metadata": {
    "collapsed": false
   },
   "outputs": [
    {
     "data": {
      "image/png": "[encoded data removed]",
      "text/plain": [
       "<matplotlib.figure.Figure at 0x7f79cc161e48>"
      ]
     },
     "metadata": {},
     "output_type": "display_data"
    }
   ],
   "source": [
    "import ipywidgets as widgets\n",
    "from IPython.display import display\n",
    "\n",
    "iteration_slider = widgets.IntSlider(min=0, max=len(coloring_problem1.assingment_history)-1, step=1, value=0)\n",
    "w=widgets.interactive(step_func,iteration=iteration_slider)\n",
    "display(w)\n",
    "\n",
    "visualize_callback = make_visualize(iteration_slider)\n",
    "\n",
    "visualize_button = widgets.ToggleButton(desctiption = \"Visualize\", value = False)\n",
    "time_select = widgets.ToggleButtons(description='Extra Delay:',options=['0', '0.1', '0.2', '0.5', '0.7', '1.0'])\n",
    "\n",
    "a = widgets.interactive(visualize_callback, Visualize = visualize_button, time_step=time_select)\n",
    "display(a)"
   ]
  },
  {
   "cell_type": "markdown",
   "metadata": {},
   "source": [
    "## NQueens Visualization\n",
    "\n",
    "Just like the Graph Coloring Problem we will start with defining a few helper functions to help us visualize the assignments as they evolve over time. The **make_plot_board_step_function** behaves similar to the **make_update_step_function** introduced earlier. It initializes a chess board in the form of a 2D grid with alternating 0s and 1s. This is used by **plot_board_step** function which draws the board using matplotlib and adds queens to it. This function also calls the **label_queen_conflicts** which modifies the grid placing 3 in positions in a position where there is a conflict."
   ]
  },
  {
   "cell_type": "code",
   "execution_count": 22,
   "metadata": {
    "collapsed": true
   },
   "outputs": [],
   "source": [
    "def label_queen_conflicts(assingment,grid):\n",
    "    ''' Mark grid with queens that are under conflict. '''\n",
    "    for col, row in assingment.items(): # check each queen for conflict\n",
    "        row_conflicts = {temp_col:temp_row for temp_col,temp_row in assingment.items() \n",
    "                         if temp_row == row and temp_col != col}\n",
    "        up_conflicts = {temp_col:temp_row for temp_col,temp_row in assingment.items() \n",
    "                        if temp_row+temp_col == row+col and temp_col != col}\n",
    "        down_conflicts = {temp_col:temp_row for temp_col,temp_row in assingment.items() \n",
    "                          if temp_row-temp_col == row-col and temp_col != col}\n",
    "        \n",
    "        # Now marking the grid.\n",
    "        for col, row in row_conflicts.items():\n",
    "                grid[col][row] = 3\n",
    "        for col, row in up_conflicts.items():\n",
    "                grid[col][row] = 3\n",
    "        for col, row in down_conflicts.items():\n",
    "                grid[col][row] = 3\n",
    "\n",
    "    return grid\n",
    "\n",
    "def make_plot_board_step_function(instru_csp):\n",
    "    '''ipywidgets interactive function supports\n",
    "       single parameter as input. This function\n",
    "       creates and return such a function by taking\n",
    "       in input other parameters.\n",
    "    '''\n",
    "    n = len(instru_csp.variables)\n",
    "    \n",
    "    \n",
    "    def plot_board_step(iteration):\n",
    "        ''' Add Queens to the Board.'''\n",
    "        data = instru_csp.assingment_history[iteration]\n",
    "        \n",
    "        grid = [[(col+row+1)%2 for col in range(n)] for row in range(n)]\n",
    "        grid = label_queen_conflicts(data, grid) # Update grid with conflict labels.\n",
    "        \n",
    "        # color map of fixed colors\n",
    "        cmap = matplotlib.colors.ListedColormap(['white','lightsteelblue','red'])\n",
    "        bounds=[0,1,2,3] # 0 for white 1 for black 2 onwards for conflict labels (red).\n",
    "        norm = matplotlib.colors.BoundaryNorm(bounds, cmap.N)\n",
    "        \n",
    "        fig = plt.imshow(grid, interpolation='nearest', cmap = cmap,norm=norm)\n",
    "\n",
    "        plt.axis('off')\n",
    "        fig.axes.get_xaxis().set_visible(False)\n",
    "        fig.axes.get_yaxis().set_visible(False)\n",
    "\n",
    "        # Place the Queens Unicode Symbol\n",
    "        for col, row in data.items():\n",
    "            fig.axes.text(row, col, u\"\\u265B\", va='center', ha='center', family='Dejavu Sans', fontsize=32)\n",
    "        plt.show()\n",
    "    \n",
    "    return plot_board_step"
   ]
  },
  {
   "cell_type": "markdown",
   "metadata": {},
   "source": [
    "Now let us visualize a solution obtained via backtracking. We use of the previosuly defined **make_instru** function for keeping a history of steps."
   ]
  },
  {
   "cell_type": "code",
   "execution_count": 23,
   "metadata": {
    "collapsed": true
   },
   "outputs": [],
   "source": [
    "twelve_queens_csp = NQueensCSP(12)\n",
    "backtracking_instru_queen = make_instru(twelve_queens_csp)\n",
    "result = backtracking_search(backtracking_instru_queen)"
   ]
  },
  {
   "cell_type": "code",
   "execution_count": 24,
   "metadata": {
    "collapsed": true
   },
   "outputs": [],
   "source": [
    "backtrack_queen_step = make_plot_board_step_function(backtracking_instru_queen) # Step Function for Widgets"
   ]
  },
  {
   "cell_type": "markdown",
   "metadata": {},
   "source": [
    "Now finally we set some matplotlib parameters to adjust how our plot will look. The font is necessary because the Black Queen Unicode character is not a part of all fonts. You can move the slider to experiment and observe the how queens are assigned. It is also possible to move the slider using arrow keys or to jump to the value by directly editing the number with a double click.The **Visualize Button** will automatically animate the slider for you. The **Extra Delay Box** allows you to set time delay in seconds upto one second for each time step.\n"
   ]
  },
  {
   "cell_type": "code",
   "execution_count": 25,
   "metadata": {
    "collapsed": false
   },
   "outputs": [
    {
     "data": {
      "image/png": "[encoded data removed]",
      "text/plain": [
       "<matplotlib.figure.Figure at 0x7f79cdf15f28>"
      ]
     },
     "metadata": {},
     "output_type": "display_data"
    }
   ],
   "source": [
    "matplotlib.rcParams['figure.figsize'] = (8.0, 8.0)\n",
    "matplotlib.rcParams['font.family'].append(u'Dejavu Sans')\n",
    "\n",
    "iteration_slider = widgets.IntSlider(min=0, max=len(backtracking_instru_queen.assingment_history)-1, step=0, value=0)\n",
    "w=widgets.interactive(backtrack_queen_step,iteration=iteration_slider)\n",
    "display(w)\n",
    "\n",
    "visualize_callback = make_visualize(iteration_slider)\n",
    "\n",
    "visualize_button = widgets.ToggleButton(desctiption = \"Visualize\", value = False)\n",
    "time_select = widgets.ToggleButtons(description='Extra Delay:',options=['0', '0.1', '0.2', '0.5', '0.7', '1.0'])\n",
    "\n",
    "a = widgets.interactive(visualize_callback, Visualize = visualize_button, time_step=time_select)\n",
    "display(a)"
   ]
  },
  {
   "cell_type": "markdown",
   "metadata": {},
   "source": [
    "Now let us finally repeat the above steps for **min_conflicts** solution."
   ]
  },
  {
   "cell_type": "code",
   "execution_count": 26,
   "metadata": {
    "collapsed": true
   },
   "outputs": [],
   "source": [
    "conflicts_instru_queen = make_instru(twelve_queens_csp)\n",
    "result = min_conflicts(conflicts_instru_queen)"
   ]
  },
  {
   "cell_type": "code",
   "execution_count": 27,
   "metadata": {
    "collapsed": true
   },
   "outputs": [],
   "source": [
    "conflicts_step = make_plot_board_step_function(conflicts_instru_queen)"
   ]
  },
  {
   "cell_type": "markdown",
   "metadata": {},
   "source": [
    "The visualization has same features as the above. But here it also highlights the conflicts by labeling the conflicted queens with a red background."
   ]
  },
  {
   "cell_type": "code",
   "execution_count": 28,
   "metadata": {
    "collapsed": false
   },
   "outputs": [
    {
     "data": {
      "image/png": "[encoded data removed]",
      "text/plain": [
       "<matplotlib.figure.Figure at 0x7f79ce05f438>"
      ]
     },
     "metadata": {},
     "output_type": "display_data"
    }
   ],
   "source": [
    "iteration_slider = widgets.IntSlider(min=0, max=len(conflicts_instru_queen.assingment_history)-1, step=0, value=0)\n",
    "w=widgets.interactive(conflicts_step,iteration=iteration_slider)\n",
    "display(w)\n",
    "\n",
    "visualize_callback = make_visualize(iteration_slider)\n",
    "\n",
    "visualize_button = widgets.ToggleButton(desctiption = \"Visualize\", value = False)\n",
    "time_select = widgets.ToggleButtons(description='Extra Delay:',options=['0', '0.1', '0.2', '0.5', '0.7', '1.0'])\n",
    "\n",
    "a = widgets.interactive(visualize_callback, Visualize = visualize_button, time_step=time_select)\n",
    "display(a)"
   ]
  }
 ],
 "metadata": {
  "kernelspec": {
   "display_name": "Python 3",
   "language": "python",
   "name": "python3"
  },
  "language_info": {
   "codemirror_mode": {
    "name": "ipython",
    "version": 3
   },
   "file_extension": ".py",
   "mimetype": "text/x-python",
   "name": "python",
   "nbconvert_exporter": "python",
   "pygments_lexer": "ipython3",
   "version": "3.4.3"
  },
  "widgets": {
   "state": {
    "00e6193e3c1241d092e88190018a393a": {
     "views": []
    },
    "01ca8f81f7e54b94812e55443502b9a7": {
     "views": []
    },
    "02df2f5698d4498f8329dbb86d1ecbd6": {
     "views": []
    },
    "02f478a3db894592aaa9356fe0580819": {
     "views": []
    },
    "059105c056f040bd83421b6b653bdb3f": {
     "views": []
    },
    "06c128c2c2934ffda7a60c0cae87b91d": {
     "views": []
    },
    "07712a529ea34742b6bd00f70a3edee2": {
     "views": []
    },
    "0792cfb1ebb24b2db2b8b445d735ed1a": {
     "views": []
    },
    "07c3a09ff49c442ba2d6182ca4f3123f": {
     "views": []
    },
    "0bca036f62f64faa9936436f34d1e0c3": {
     "views": []
    },
    "0beb7dd79a7843c79b490c743601774d": {
     "views": []
    },
    "0eb4cf0ef8084563a4b423f7bd4de77d": {
     "views": []
    },
    "0ec65be9a99545fcadd391d91704262b": {
     "views": []
    },
    "0f2cb244530b401f8ec01e951bf10cbe": {
     "views": []
    },
    "100d02ec9bf24f298337efaa4de1461a": {
     "views": []
    },
    "107aa86aac2a4625a22c3eedbb66b287": {
     "views": []
    },
    "133725d1e8f049b897e2afa286b45ab8": {
     "views": []
    },
    "1501fdb2c939478299fd5b15f8d2fb8a": {
     "views": []
    },
    "15228054dab54e92804b89598351b958": {
     "views": []
    },
    "154848f14197447686a2cc9e5427ba83": {
     "views": []
    },
    "154b9c3273044856af73d6d9d66d119b": {
     "views": []
    },
    "16b28ff2d74146a99414f5ee71a63b31": {
     "views": []
    },
    "16f4bf622a33427b9e0e00480cf6ebdf": {
     "views": []
    },
    "178c826fd0c8495f9f632e4a757a9555": {
     "views": []
    },
    "1850016ebe1d4354a5c97ca6631d302c": {
     "views": []
    },
    "1e74f1622d2e4f509382a8654fc729c6": {
     "views": []
    },
    "1f31a05f3ad84a769da78315554db8f3": {
     "views": []
    },
    "1f387feba0ee49789fdfafc94da5d210": {
     "views": []
    },
    "1f622b36166c4d159e76169992ad1a41": {
     "views": []
    },
    "1fc61a47e27a499b85634487375df068": {
     "views": []
    },
    "200ab42fc4a24ec0a0461e54f4768856": {
     "views": []
    },
    "21a40f82e67041329cf42fd6352801a6": {
     "views": [
      {
       "cell_index": 46
      }
     ]
    },
    "21bab38a8b354763813d4ebac57ee28f": {
     "views": [
      {
       "cell_index": 51
      }
     ]
    },
    "21bccda165a646d992ebf77643017b46": {
     "views": []
    },
    "233407524ef24b77a789749b10242057": {
     "views": []
    },
    "241e13121836432181da397d8624f765": {
     "views": []
    },
    "255cc05a8dc0401b8834219609e25ab3": {
     "views": []
    },
    "27ce2b00477e42aa9b424ff702cc1866": {
     "views": []
    },
    "29235e129c5c4f5da4794348ae1f5117": {
     "views": [
      {
       "cell_index": 51
      }
     ]
    },
    "2b26de2b0b7740c993226833c1576bc3": {
     "views": []
    },
    "2f8af1a5c42c477b86b7686a2d2ff669": {
     "views": []
    },
    "329d2fd5df6c438f8335ccc102fa8e7b": {
     "views": [
      {
       "cell_index": 46
      }
     ]
    },
    "335a294a95d9453c979eec48a4cbace1": {
     "views": []
    },
    "34c6355543524bb88f633c3513f62a80": {
     "views": []
    },
    "34d20a20ab1349258bac0c5ba2f8ccbf": {
     "views": []
    },
    "388f484b7fe94820b0a501f6fb70817d": {
     "views": []
    },
    "3a7337a2b298432e8660ea53ff4fabe2": {
     "views": []
    },
    "3e1d671cb9244120bfd95641cee51328": {
     "views": []
    },
    "3f61c6455f8d4e30b15ab34bb1e630b1": {
     "views": []
    },
    "40c138ff8f324c789969e1a43e7ad19f": {
     "views": []
    },
    "41b113c5dfee4a078f167c541be38c3f": {
     "views": []
    },
    "45aa9d5392a74a46a964e0310a473bd5": {
     "views": []
    },
    "469ebd368d0c4bc59d42a0d94d24065f": {
     "views": []
    },
    "46f88f9068f846e2812cfbaa465c568b": {
     "views": []
    },
    "46fcee06e8e44b70b5d0523afa4ca770": {
     "views": []
    },
    "47dffc93dc324215a4c2e5e96590b97a": {
     "views": []
    },
    "4a21d9ac93b549ebb029f18adba902db": {
     "views": []
    },
    "4ca172dc890b4f7c8b6b7e833e4ee441": {
     "views": []
    },
    "4e4b96fbf18c4f5cbf903b8fcb9d8262": {
     "views": [
      {
       "cell_index": 39
      }
     ]
    },
    "4f76c2a4fad640f59ab1d133d4c8b897": {
     "views": [
      {
       "cell_index": 46
      }
     ]
    },
    "52e0a9956c5045bc9025f1cf05c4f99a": {
     "views": []
    },
    "5738aa9644fb475ba9a2cba43fadb22c": {
     "views": []
    },
    "57e9bc3e28d74b86a7a99a3f744ac449": {
     "views": [
      {
       "cell_index": 39
      }
     ]
    },
    "58c559240e674141954175b9bacd533e": {
     "views": [
      {
       "cell_index": 46
      }
     ]
    },
    "5a6c4b12853e4141a0a25a9f1ede5d1b": {
     "views": []
    },
    "5e51af6e8cd04a7092321cf4102777ec": {
     "views": []
    },
    "61a39e4235574cd2a2afa1fc40edeae1": {
     "views": []
    },
    "621002734fe643348cdc7c1c1e0872a5": {
     "views": []
    },
    "63ab16bdd59043a2a1849b39fcb4be8e": {
     "views": []
    },
    "6467c124a2ca4393932c249a748feed4": {
     "views": []
    },
    "6bf7ce2504344ada8cbd159c6615a22a": {
     "views": []
    },
    "6f2212cee9624c3ab872fd7ba1def87c": {
     "views": []
    },
    "70653f65d8de445491b6b7f51f5c846c": {
     "views": []
    },
    "715e31b78307424ca274ea18bcc20a63": {
     "views": []
    },
    "71e0de55672d468bae62d774e135936d": {
     "views": []
    },
    "72ed05a711a249d78fffed056f08d94a": {
     "views": [
      {
       "cell_index": 51
      }
     ]
    },
    "72f46c81e7164e789c02ed214dbd8ece": {
     "views": []
    },
    "732c8850628e4917a8823b87ad8774f6": {
     "views": []
    },
    "741eb2bca89b4f2ca13bb2d5df9ddd35": {
     "views": []
    },
    "74c07d71aba64288ba033ba9866f4ef6": {
     "views": []
    },
    "760536f1df7c4f25bb45f775f235d2d2": {
     "views": []
    },
    "7ab10f9bd3864dfabf7df211a5011554": {
     "views": []
    },
    "7ff9926cbb0547ffbb0d01245072cde2": {
     "views": [
      {
       "cell_index": 51
      }
     ]
    },
    "800a365425d6414ba7a0a20323722946": {
     "views": []
    },
    "804809d0fcd640f893ec862d553d2bd9": {
     "views": []
    },
    "81339fe50cb74c5eb1349ae433198533": {
     "views": []
    },
    "83f42ed1d94a40daad0c3158a71cb7a1": {
     "views": []
    },
    "856962759bc14b8da205d832472f9e5f": {
     "views": []
    },
    "865d82a111e449dd9ceb79f5d6791eba": {
     "views": []
    },
    "86624e46d189407f94bb861c8dd467bf": {
     "views": []
    },
    "873dff2671cf420699e331ab4d71f349": {
     "views": []
    },
    "8927aebd64884f4788f94cd58409dde7": {
     "views": []
    },
    "8b5cbf976c7b41bfaa4f0f063b2a7c7b": {
     "views": []
    },
    "8c812a8a7bc24eaa9700623a13734298": {
     "views": [
      {
       "cell_index": 51
      }
     ]
    },
    "8e864c0a62454ae1975e596a7c228a3a": {
     "views": []
    },
    "92997b908f4b4f4ebb0d639a753afbd2": {
     "views": []
    },
    "929a4b2fd8be4c03ab20055b9fbe6ce9": {
     "views": []
    },
    "92e8abc9975149e298a1b15bc5a974f5": {
     "views": []
    },
    "939bf917a8d54aeba68ffacf16bb870e": {
     "views": []
    },
    "9485157da4344e7c84e79c1d561d330c": {
     "views": []
    },
    "982caea47bd6451e8303802610095f8a": {
     "views": []
    },
    "9928e0525ef443dc9dc8c016da377ba0": {
     "views": []
    },
    "9c095e3e752248259cfec2a499a73882": {
     "views": []
    },
    "9c4f984ec6a04cdaa0f0c89ff979832b": {
     "views": []
    },
    "9d85cd2b3506470b8fb85354298835b8": {
     "views": []
    },
    "9df40ff22be845f1bba0451ca7e17e37": {
     "views": []
    },
    "9ea2aee6063040899aeeb7f74a2b17f2": {
     "views": []
    },
    "9ef455c521a94dfa83ab546ea22ee858": {
     "views": []
    },
    "a1086e96f8f54b1ea26e68fb28e2a941": {
     "views": []
    },
    "a4e5fb0a7c1b4855a5c13295f2d66454": {
     "views": []
    },
    "a5bf40e7f7974858beec98383b0c9715": {
     "views": []
    },
    "a6724364994e498a97b82921f4b24447": {
     "views": []
    },
    "a6839e73b23148318bec228277821be1": {
     "views": []
    },
    "a6cd43b117da463b9062eb1ca3a18d2b": {
     "views": []
    },
    "a777f15cc31d46e5b4a745dc81e513c7": {
     "views": []
    },
    "a874b1995c614e738d8dca1f0b02a281": {
     "views": []
    },
    "ae703d67b3c647e685fd65f819e8c274": {
     "views": []
    },
    "b21448858f554be784e4b2cce961ddb5": {
     "views": []
    },
    "b2b18f6c4bd1451bbecfa5743cbc8104": {
     "views": []
    },
    "b3233a95d2f647eaab75c0f64e08fedb": {
     "views": []
    },
    "b5f68a17b905431b83588d2f51ec6d4c": {
     "views": []
    },
    "b6359611e268412f8e479c1479af31b9": {
     "views": []
    },
    "b64bc0cee4a94f32b4192a879a921fa2": {
     "views": []
    },
    "b694d5c7a3fd436ab74e712ae76dda56": {
     "views": []
    },
    "b707ea1d72ef44a698de135d3b902553": {
     "views": []
    },
    "b788d9bd54ce4a89aa5e1a0998829a47": {
     "views": []
    },
    "b98c66205bf64d208dc60d7190944572": {
     "views": []
    },
    "ba2318c74e5841d9b358276c0afd2f55": {
     "views": []
    },
    "bb8da816e1ec4d588f72947ad164a87c": {
     "views": []
    },
    "bbad9d3951e648d2b99edd63ad1f292f": {
     "views": [
      {
       "cell_index": 39
      }
     ]
    },
    "bbc1c20066a64d7daf73fbd8fc6517a0": {
     "views": [
      {
       "cell_index": 39
      }
     ]
    },
    "bd6cc27f9b304dbeb1791bd2ed5744e3": {
     "views": []
    },
    "c1b5fd4388aa4398883eb304f0b4a161": {
     "views": []
    },
    "c2644016e68347d39600b2f9912059c4": {
     "views": []
    },
    "c3d7579fb5c14d69bf07f611837b7d8f": {
     "views": []
    },
    "c49be4d190b74f8c8c08d9b5d44a63e8": {
     "views": []
    },
    "cb9acb67cd8f47c6b3f94d675e3e2d2b": {
     "views": []
    },
    "cc72fd17a23f4ab78bc04c203b53b25d": {
     "views": []
    },
    "cd2a8c40d30f48fc9d8954aa66c5fb72": {
     "views": []
    },
    "ce165bb3703b4b29a449ef58947628ec": {
     "views": []
    },
    "cedf11810fcd49b98b667f6f07527842": {
     "views": []
    },
    "d0183d9a58cd4222aa9784e0bcbf621e": {
     "views": []
    },
    "d20b38477fd84069905b22d4098e308e": {
     "views": []
    },
    "d2d42e6c236e42939fc6c164366422f4": {
     "views": []
    },
    "dbf3b73913fc4bd18ffdf558a082b429": {
     "views": []
    },
    "dbfa923165cd4df4b8ccdb3ed7a2f95f": {
     "views": []
    },
    "dc11cba4776e464c89873f555913f9db": {
     "views": []
    },
    "e052d572ee914f16894ef353219dc8c8": {
     "views": []
    },
    "e3e6d18e0e5c4121ae1fbc65a43c2eea": {
     "views": []
    },
    "e5293c7361c4410382c3491c590be4d9": {
     "views": [
      {
       "cell_index": 39
      }
     ]
    },
    "e9c77b3b49724057ba3158fa8c4c370f": {
     "views": [
      {
       "cell_index": 46
      }
     ]
    },
    "eb79108b508e4e219616d22ea10c3ccb": {
     "views": []
    },
    "f5441267814144ef868f18e74b891723": {
     "views": []
    },
    "f71bbd12c1d748158ad6a7a3bcd4c22a": {
     "views": []
    },
    "f748842f5d6848288bd94e42d8384e75": {
     "views": []
    },
    "f74ce24b34914539ad634a2a434886ed": {
     "views": []
    },
    "f84bbc6b3d444d86ac3ffe36d4aafd32": {
     "views": []
    },
    "fa7ad0df2d064c50906d2c44c49766de": {
     "views": []
    },
    "fc6abb3f1f6743fba158fa8e6811dc8d": {
     "views": []
    },
    "fc9458937ab9490090b53f38afaf7745": {
     "views": []
    },
    "ff32bf9dbf654a5d8f46ea337beedaa2": {
     "views": []
    },
    "ff75504b924748d1b743e0eb0a909855": {
     "views": [
      {
       "cell_index": 39
      }
     ]
    }
   },
   "version": "1.1.1"
  }
 },
 "nbformat": 4,
 "nbformat_minor": 0
}
