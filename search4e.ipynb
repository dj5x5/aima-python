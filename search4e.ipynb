{
 "cells": [
  {
   "cell_type": "markdown",
   "metadata": {},
   "source": [
    "# Search for AIMA 4th edition\n",
    "\n",
    "Implementation of search algorithms and search problems for AIMA.\n",
    "\n",
    "# Problems and Nodes\n",
    "\n",
    "We start by defining the abstract class for a `Problem`; specific problem domains will subclass this. To make it easier for algorithms that use a heuristic evaluation function, `Problem` has a default `h` function (uniformly zero), and subclasses can define their own default `h` function.\n",
    "\n",
    "We also define a `Node` in a search tree, and some functions on nodes: `expand` to generate successors; `path_actions` and `path_states`  to recover aspects of the path from the node.  "
   ]
  },
  {
   "cell_type": "code",
   "execution_count": 1,
   "metadata": {},
   "outputs": [],
   "source": [
    "%matplotlib inline\n",
    "import matplotlib.pyplot as plt\n",
    "import random\n",
    "import heapq\n",
    "import math\n",
    "import sys\n",
    "from collections import defaultdict, deque, Counter\n",
    "from itertools import combinations\n",
    "\n",
    "\n",
    "class Problem(object):\n",
    "    \"\"\"The abstract class for a formal problem. A new domain subclasses this,\n",
    "    overriding `actions` and `results`, and perhaps other methods.\n",
    "    Subclasses can add other keywords besides initial and goal.\n",
    "    The default heuristic is 0 and the default step cost is 1 for all states.\"\"\"\n",
    "\n",
    "    def __init__(self, initial=None, goal=None, **kwds): \n",
    "        self.__dict__.update(initial=initial, goal=goal, **kwds) \n",
    "        \n",
    "    def actions(self, state):           raise NotImplementedError\n",
    "    def result(self, state, action):    raise NotImplementedError\n",
    "    def is_goal(self, state):           return state == self.goal\n",
    "    def step_cost(self, s, action, s1): return 1\n",
    "    def h(self, node):                  return 0\n",
    "    \n",
    "    def __str__(self):\n",
    "        return '{}({}, {})'.format(type(self).__name__, self.initial, self.goal)\n",
    "    \n",
    "\n",
    "class Node:\n",
    "    \"A Node in a search tree.\"\n",
    "    def __init__(self, state, parent=None, action=None, path_cost=0):\n",
    "        self.__dict__.update(state=state, parent=parent, action=action, path_cost=path_cost)\n",
    "\n",
    "    def __repr__(self): return '<{}>'.format(self.state)\n",
    "    def __len__(self): return 0 if self.parent is None else (1 + len(self.parent))\n",
    "    def __lt__(self, other): return self.path_cost < other.path_cost\n",
    "    \n",
    "    \n",
    "failure = Node('failure', path_cost=math.inf) # Indicates an algorithm couldn't find a solution.\n",
    "cutoff  = Node('cutoff',  path_cost=math.inf) # Indicates iterative deepening search was cut off.\n",
    "    \n",
    "    \n",
    "def expand(problem, node):\n",
    "    \"Expand a node, generating the children nodes.\"\n",
    "    s = node.state\n",
    "    for action in problem.actions(s):\n",
    "        s1 = problem.result(s, action)\n",
    "        cost = node.path_cost + problem.step_cost(s, action, s1)\n",
    "        yield Node(s1, node, action, cost)\n",
    "        \n",
    "\n",
    "def path_actions(node):\n",
    "    \"The sequence of actions to get to this node.\"\n",
    "    return [] if node.parent is None else path_actions(node.parent) + [node.action]\n",
    "\n",
    "\n",
    "def path_states(node):\n",
    "    \"The sequence of states to get to this node.\"\n",
    "    if node in (cutoff, failure, None): return []\n",
    "    return path_states(node.parent) + [node.state]"
   ]
  },
  {
   "cell_type": "markdown",
   "metadata": {},
   "source": [
    "# Queues\n",
    "\n",
    "First-in-first-out and Last-in-first-out queues, and a `PriorityQueue`, which allows you to keep a collection of items, and continually remove from it the item with minimum `f(item)` score."
   ]
  },
  {
   "cell_type": "code",
   "execution_count": 2,
   "metadata": {},
   "outputs": [],
   "source": [
    "FIFOQueue = deque\n",
    "\n",
    "LIFOQueue = list\n",
    "\n",
    "class PriorityQueue:\n",
    "    \"\"\"A queue in which the item with minimum f(item) is always popped first.\"\"\"\n",
    "\n",
    "    def __init__(self, items=(), key=lambda x: x): \n",
    "        self.key = key\n",
    "        self.items = [] # a heap of (score, item) pairs\n",
    "        for item in items:\n",
    "            self.add(item)\n",
    "         \n",
    "    def add(self, item):\n",
    "        \"\"\"Add item to the queuez.\"\"\"\n",
    "        pair = (self.key(item), item)\n",
    "        heapq.heappush(self.items, pair)\n",
    "\n",
    "    def pop(self):\n",
    "        \"\"\"Pop and return the item with min f(item) value.\"\"\"\n",
    "        return heapq.heappop(self.items)[1]\n",
    "    \n",
    "    def top(self): return self.items[0][1]\n",
    "\n",
    "    def __len__(self): return len(self.items)"
   ]
  },
  {
   "cell_type": "markdown",
   "metadata": {},
   "source": [
    "# Search Algorithms\n",
    "\n",
    "Here are the state-space search algorithms covered in the book:"
   ]
  },
  {
   "cell_type": "code",
   "execution_count": 3,
   "metadata": {},
   "outputs": [],
   "source": [
    "def breadth_first_search(problem):\n",
    "    \"Search shallowest nodes in the search tree first.\"\n",
    "    frontier = FIFOQueue([Node(problem.initial)])\n",
    "    reached = set()\n",
    "    while frontier:\n",
    "        node = frontier.pop()\n",
    "        if problem.is_goal(node.state):\n",
    "            return node\n",
    "        for child in expand(problem, node):\n",
    "            s = child.state\n",
    "            if s not in reached:\n",
    "                reached.add(s)\n",
    "                frontier.appendleft(child)\n",
    "    return failure\n",
    "\n",
    "\n",
    "def depth_limited_search(problem, limit=5):\n",
    "    \"Search deepest nodes in the search tree first.\"\n",
    "    frontier = LIFOQueue([Node(problem.initial)])\n",
    "    solution = failure\n",
    "    while frontier:\n",
    "        node = frontier.pop()\n",
    "        if len(node) > limit:\n",
    "            solution = cutoff\n",
    "        else:\n",
    "            for child in expand(problem, node):\n",
    "                if problem.is_goal(child.state):\n",
    "                    return child\n",
    "                frontier.append(child)\n",
    "    return solution\n",
    "\n",
    "def iterative_deepening_search(problem):\n",
    "    \"Do depth-limited search with increasing depth limits.\"\n",
    "    for limit in range(1, sys.maxsize):\n",
    "        result = depth_limited_search(problem, limit)\n",
    "        if result != cutoff:\n",
    "            return result\n",
    "        \n",
    "# TODO: bidirectional-search, RBFS, and-or-search"
   ]
  },
  {
   "cell_type": "markdown",
   "metadata": {},
   "source": [
    "# Best-First Search Algorithms\n",
    "\n",
    "Best-first search with various *f(n)* functions gives us different search algorithms. Note that A\\*, weighted A\\* and greedy search can be given a heuristic function, `h`, but if `h` is not supplied they use the problem's default `h` function."
   ]
  },
  {
   "cell_type": "code",
   "execution_count": 4,
   "metadata": {},
   "outputs": [],
   "source": [
    "def best_first_search(problem, f):\n",
    "    \"Search nodes with minimum f(node) value first.\"\n",
    "    frontier = PriorityQueue([Node(problem.initial)], key=f)\n",
    "    reached = {}\n",
    "    while frontier:\n",
    "        node = frontier.pop()\n",
    "        if problem.is_goal(node.state):\n",
    "            return node\n",
    "        for child in expand(problem, node):\n",
    "            s = child.state\n",
    "            if s not in reached or child.path_cost < reached[s].path_cost:\n",
    "                reached[s] = child\n",
    "                frontier.add(child)\n",
    "    return failure\n",
    "\n",
    "\n",
    "def uniform_cost_search(problem):\n",
    "    \"Search nodes with minimum  path cost first.\"\n",
    "    return best_first_search(problem, f=lambda node: node.path_cost)\n",
    "\n",
    "\n",
    "def astar_search(problem, h=None):\n",
    "    \"\"\"Search nodes with minimum f(n) = g(n) + h(n).\"\"\"\n",
    "    h = h or problem.h\n",
    "    return best_first_search(problem, f=lambda node: node.path_cost + h(node))\n",
    "\n",
    "\n",
    "def weighted_astar_search(problem, weight=1.4, h=None):\n",
    "    \"\"\"Search nodes with minimum f(n) = g(n) + h(n).\"\"\"\n",
    "    h = h or problem.h\n",
    "    return best_first_search(problem, f=lambda node: node.path_cost + weight * h(node))\n",
    "\n",
    "        \n",
    "def greedy_bfs(problem, h=None):\n",
    "    \"\"\"Search nodes with minimum h(n).\"\"\"\n",
    "    h = h or problem.h\n",
    "    return best_first_search(problem, f=h)\n",
    "\n",
    "\n",
    "def breadth_first_bfs(problem):\n",
    "    \"Search shallowest nodes in the search tree first; using best-first.\"\n",
    "    return best_first_search(problem, f=len)\n",
    "\n",
    "\n",
    "def depth_first_bfs(problem):\n",
    "    \"Search deepest nodes in the search tree first; using best-first.\"\n",
    "    return best_first_search(problem, f=lambda node: -len(node))"
   ]
  },
  {
   "cell_type": "markdown",
   "metadata": {},
   "source": [
    "# Problem Domains\n",
    "\n",
    "Now we turn our attention to defining some problem domains as subclasses of `Problem`."
   ]
  },
  {
   "cell_type": "markdown",
   "metadata": {},
   "source": [
    "# Route Finding Problems\n",
    "\n",
    "![](romania.png)\n",
    "\n",
    "In a `RouteProblem`, the states are names of \"cities\" (or other locations), like `'A'` for Arad. The actions are also city names; `'Z'` is the action to move to city `'Z'`. The layout of cities is given by a separate data structure, a `Map`, which is a graph where there are vertexes (cities), links between vertexes, distances (costs) of those links (if not specified, the default is 1 for every link), and optionally the 2D (x, y) location of each city can be specified. A `RouteProblem` takes this `Map` as input and allows actions to move between linked cities. The default heuristic is straight-line distance to the goal, or is uniformly zero if locations were not given."
   ]
  },
  {
   "cell_type": "code",
   "execution_count": 5,
   "metadata": {},
   "outputs": [],
   "source": [
    "class RouteProblem(Problem):\n",
    "    \"\"\"A problem to find a route between locations on a `Map`.\n",
    "    Create a problem with RouteProblem(start, goal, map=Map(...)}).\n",
    "    States are the vertexes in the Map graph; actions are destination states.\"\"\"\n",
    "    \n",
    "    def actions(self, state): \n",
    "        \"\"\"The places neighboring `state`.\"\"\"\n",
    "        return self.map.neighbors[state]\n",
    "    \n",
    "    def result(self, state, action):\n",
    "        \"\"\"Go to the `action` place, if the map says that is possible.\"\"\"\n",
    "        return action if action in self.map.neighbors[state] else state\n",
    "    \n",
    "    def step_cost(self, s, action, s1):\n",
    "        \"\"\"The distance (cost) to go from s to s1.\"\"\"\n",
    "        return self.map.distances[s, s1]\n",
    "    \n",
    "    def h(self, node):\n",
    "        \"Straight-line distance between state and the goal.\"\n",
    "        locs = self.map.locations\n",
    "        return straight_line_distance(locs[node.state], locs[self.goal])\n",
    "    \n",
    "    \n",
    "def straight_line_distance(A, B):\n",
    "    \"Straight-line distance between two 2D points.\"\n",
    "    return abs(complex(*A) - complex(*B))"
   ]
  },
  {
   "cell_type": "code",
   "execution_count": 6,
   "metadata": {},
   "outputs": [],
   "source": [
    "class Map:\n",
    "    \"\"\"A map of places in a 2D world: a graph with vertexes and links between them. \n",
    "    In `Map(links, locations)`, `links` can be either [(v1, v2)...] pairs, \n",
    "    or a {(v1, v2): distance...} dict. Optional `locations` can be {v1: (x, y)} \n",
    "    If `directed=False` then for every (v1, v2) link, we add a (v2, v1).\"\"\"\n",
    "\n",
    "    def __init__(self, links, locations=None, directed=False):\n",
    "        if not hasattr(links, 'items'): # Distances are 1 by default\n",
    "            links = {link: 1 for link in links}\n",
    "        if not directed:\n",
    "            for (v1, v2) in list(links):\n",
    "                links[v2, v1] = links[v1, v2]\n",
    "        self.distances = links\n",
    "        self.locations = locations or defaultdict(lambda: (0, 0))\n",
    "        self.neighbors = multimap(links)\n",
    "\n",
    "        \n",
    "def multimap(pairs) -> dict:\n",
    "    \"Given (key, val) pairs, make a dict of {key: [val,...]}.\"\n",
    "    result = defaultdict(list)\n",
    "    for key, val in pairs:\n",
    "        result[key].append(val)\n",
    "    return result\n",
    "\n",
    "\n",
    "romania = Map(\n",
    "    {('O', 'Z'): 71, ('O', 'S'): 151, ('A', 'Z'): 75, ('A', 'S'): 140, ('A', 'T'): 118, \n",
    "     ('L', 'T'): 111, ('L', 'M'): 70, ('D', 'M'): 75, ('C', 'D'): 120, ('C', 'R'): 146, \n",
    "     ('C', 'P'): 138, ('R', 'S'): 80, ('F', 'S'): 99, ('B', 'F'): 211, ('B', 'P'): 101, \n",
    "     ('B', 'G'): 90, ('B', 'U'): 85, ('H', 'U'): 98,  ('E', 'H'): 86, ('U', 'V'): 142, \n",
    "     ('I', 'V'): 92, ('I', 'N'): 87, ('P', 'R'): 97},\n",
    "    locations=dict(\n",
    "    A=(91, 492), B=(400, 327), C=(253, 288), D=(165, 299), E=(562, 293), F=(305, 449),\n",
    "    G=(375, 270), H=(534, 350), I=(473, 506), L=(165, 379), M=(168, 339), N=(406, 537),\n",
    "    O=(131, 571), P=(320, 368), R=(233, 410), S=(207, 457), T=(94, 410), U=(456, 350),\n",
    "    V=(509, 444), Z=(108, 531)))"
   ]
  },
  {
   "cell_type": "markdown",
   "metadata": {},
   "source": [
    "# Grid Problems\n",
    "\n",
    "A `GridProblem` involves navigating on a 2D grid, with some cells being impassible obstacles. By default you can move to any of the eight neighboring cells that are not obstacles (but in a problem instance you can supply a `directions=` keyword to change that). Again, the default heuristic is straight-line distance to the goal. States are `(x, y)` cell locations, such as `(4, 2)`, and actions are `(dx, dy)` cell movements, such as `(0, -1)`, which means leave the `x` coordinate alone, and decrement the `y` coordinate by 1."
   ]
  },
  {
   "cell_type": "code",
   "execution_count": 7,
   "metadata": {},
   "outputs": [],
   "source": [
    "class GridProblem(Problem):\n",
    "    \"\"\"Finding a path on a 2D grid with obstacles. Obstacles are (x, y) cells.\"\"\"\n",
    "\n",
    "    def __init__(self, initial=(15, 30), goal=(130, 30), obstacles=(), **kwds):\n",
    "        Problem.__init__(self, initial=initial, goal=goal, \n",
    "                         obstacles=set(obstacles) - {initial, goal}, **kwds)\n",
    "\n",
    "    directions = [(-1, -1), (0, -1), (1, -1),\n",
    "                  (-1, 0),           (1,  0),\n",
    "                  (-1, +1), (0, +1), (1, +1)]\n",
    "    \n",
    "    def step_cost(self, s, action, s1): return straight_line_distance(s, s1)\n",
    "    \n",
    "    def h(self, node): return straight_line_distance(node.state, self.goal)\n",
    "                  \n",
    "    def result(self, state, action): \n",
    "        \"Both states and actions are represented by (x, y) pairs.\"\n",
    "        return action if action not in self.obstacles else state\n",
    "    \n",
    "    def actions(self, state):\n",
    "        \"\"\"You can move one cell in any of `directions` to a non-obstacle cell.\"\"\"\n",
    "        x, y = state\n",
    "        return [(x + dx, y + dy) for (dx, dy) in self.directions \n",
    "                if (x + dx, y + dy) not in self.obstacles] \n",
    "    \n",
    "    \n",
    "# The following can be used to create obstacles:\n",
    "    \n",
    "def random_lines(X=range(150), Y=range(60), N=150, lengths=range(6, 12), dirs=((0, 1), (1, 0))):\n",
    "    \"\"\"Yield the cells in N random lines of the given lengths.\"\"\"\n",
    "    for _ in range(N):\n",
    "        x, y = random.choice(X), random.choice(Y)\n",
    "        dx, dy = random.choice(dirs)\n",
    "        yield from line(x, y, dx, dy, random.choice(lengths))\n",
    "\n",
    "        \n",
    "def line(x, y, dx, dy, length):\n",
    "    \"\"\"A line of `length` cells starting at (x, y) and going in (dx, dy) direction.\"\"\"\n",
    "    return {(x + i * dx, y + i * dy) for i in range(length)}"
   ]
  },
  {
   "cell_type": "markdown",
   "metadata": {},
   "source": [
    "# 8 Puzzle Problems\n",
    "\n",
    "![](https://ece.uwaterloo.ca/~dwharder/aads/Algorithms/N_puzzles/images/puz3.png)\n",
    "\n",
    "A sliding block puzzle where you can swap the blank with an adjacent piece, trying to reach a goal configuration. The cells are numbered 0 to 8, starting at the top left and going row by row left to right. The pieces are numebred 1 to 8, with 0 representing the blank. An action is the cell index number that is to be swapped with the blank (*not* the actual number to be swapped but the index into the state). So the diagram above left is the state `(5, 2, 7, 8, 4, 0, 1, 3, 6)`, and the action is `8`, because the last cell (the `6` in the bottom right) is swapped with the blank.\n",
    "\n",
    "There are two disjoint sets of states that cannot be reached from each other. One set has an even number of \"inversions\"; the other has an odd number. An inversion is when a piece in the state is larger than a piece that follows it.\n",
    "\n",
    "\n"
   ]
  },
  {
   "cell_type": "code",
   "execution_count": 8,
   "metadata": {},
   "outputs": [],
   "source": [
    "class EightPuzzle(Problem):\n",
    "    \"\"\" The problem of sliding tiles numbered from 1 to 8 on a 3x3 board,\n",
    "    where one of the squares is a blank, trying to reach a goal configuration.\n",
    "    A board state is represented as a tuple of length 9, where the element at index i \n",
    "    represents the tile number at index i, or 0 if for the empty square, e.g. the goal:\n",
    "        1 2 3\n",
    "        4 5 6 ==> (1, 2, 3, 4, 5, 6, 7, 8, 0)\n",
    "        7 8 _\n",
    "    \"\"\"\n",
    "\n",
    "    def __init__(self, initial, goal=(1, 2, 3, 4, 5, 6, 7, 8, 0)):\n",
    "        assert inversions(initial) % 2 == inversions(goal) % 2 # Parity check\n",
    "        self.initial, self.goal = initial, goal\n",
    "    \n",
    "    def actions(self, state):\n",
    "        \"\"\"The indexes of the squares that the blank can move to.\"\"\"\n",
    "        moves = ((1, 3),    (0, 2, 4),    (1, 5),\n",
    "                 (0, 4, 6), (1, 3, 5, 7), (2, 4, 8),\n",
    "                 (3, 7),    (4, 6, 8),    (7, 5))\n",
    "        blank = state.index(0)\n",
    "        return moves[blank]\n",
    "    \n",
    "    def result(self, state, action):\n",
    "        \"\"\"Swap the blank with the square numbered `action`.\"\"\"\n",
    "        s = list(state)\n",
    "        blank = state.index(0)\n",
    "        s[action], s[blank] = s[blank], s[action]\n",
    "        return tuple(s)\n",
    "    \n",
    "    def h(self, node):\n",
    "        \"\"\"The Manhattan heuristic.\"\"\"\n",
    "        X = (0, 1, 2, 0, 1, 2, 0, 1, 2)\n",
    "        Y = (0, 0, 0, 1, 1, 1, 2, 2, 2)\n",
    "        return sum(abs(X[s] - X[g]) + abs(Y[s] - Y[g])\n",
    "                   for (s, g) in zip(node.state, self.goal) if s != 0)\n",
    "    \n",
    "    def h2(self, node):\n",
    "        \"\"\"The misplaced tiles heuristic.\"\"\"\n",
    "        return sum(s != g for (s, g) in zip(node.state, self.goal) if s != 0)\n",
    "    \n",
    "\n",
    "def inversions(board):\n",
    "    \"The number of times a piece is a smaller number than a following piece.\"\n",
    "    return sum((a > b and a != 0 and b != 0) for (a, b) in combinations(board, 2))\n",
    "    \n",
    "    \n",
    "def board8(board, fmt=(3 * '{} {} {}\\n')):\n",
    "    \"A string representing an 8-puzzle board\"\n",
    "    return fmt.format(*board).replace('0', '_')"
   ]
  },
  {
   "cell_type": "markdown",
   "metadata": {},
   "source": [
    "# Water Pouring Problems\n",
    "\n",
    "![](http://puzzles.nigelcoldwell.co.uk/images/water22.png)\n",
    "\n",
    "In a [water pouring problem](https://en.wikipedia.org/wiki/Water_pouring_puzzle) you are given a collection of jugs, each of which has a size (capacity) in, say, litres, and a current level of water (in litres). The goal is to measure out a certain level of water; it can appear in any of the jugs. For example, in the movie *Die Hard 3*, the heroes were faced with the task of making exactly 4 gallons from jugs of size 5 gallons and 3 gallons.) A state is represented by a tuple of current water levels, and the available actions are:\n",
    "- `(Fill, i)`: fill the `i`th jug all the way to the top (from a tap with unlimited water).\n",
    "- `(Dump, i)`: dump all the water out of the `i`th jug.\n",
    "- `(Pour, i, j)`: pour water from the `i`th jug into the `j`th jug until either the jug `i` is empty, or jug `j` is full, whichever comes first."
   ]
  },
  {
   "cell_type": "code",
   "execution_count": 9,
   "metadata": {},
   "outputs": [],
   "source": [
    "class PourProblem(Problem):\n",
    "    \"\"\"Problem about pouring water between jugs to achieve some water level.\n",
    "    Each state is a tuples of water levels. In the initialization, also provide a tuple of \n",
    "    jug sizes, e.g. PourProblem(initial=(0, 0), goal=4, sizes=(5, 3)), \n",
    "    which means two jugs of sizes 5 and 3, initially both empty, with the goal\n",
    "    of getting a level of 4 in either jug.\"\"\"\n",
    "    \n",
    "    def actions(self, state):\n",
    "        \"\"\"The actions executable in this state.\"\"\"\n",
    "        jugs = range(len(state))\n",
    "        return ([('Fill', i)    for i in jugs if state[i] < self.sizes[i]] +\n",
    "                [('Dump', i)    for i in jugs if state[i]] +\n",
    "                [('Pour', i, j) for i in jugs if state[i] for j in jugs if i != j])\n",
    "\n",
    "    def result(self, state, action):\n",
    "        \"\"\"The state that results from executing this action in this state.\"\"\"\n",
    "        result = list(state)\n",
    "        act, i, *_ = action\n",
    "        if act == 'Fill':   # Fill i to capacity\n",
    "            result[i] = self.sizes[i]\n",
    "        elif act == 'Dump': # Empty i\n",
    "            result[i] = 0\n",
    "        elif act == 'Pour': # Pour from i into j\n",
    "            j = action[2]\n",
    "            amount = min(state[i], self.sizes[j] - state[j])\n",
    "            result[i] -= amount\n",
    "            result[j] += amount\n",
    "        return tuple(result)\n",
    "\n",
    "    def is_goal(self, state):\n",
    "        \"\"\"True if the goal level is in any one of the jugs.\"\"\"\n",
    "        return self.goal in state"
   ]
  },
  {
   "cell_type": "markdown",
   "metadata": {},
   "source": [
    "In a `GreenPourProblem`, the states and actions are the same, but the path cost is not the number of steps, but rather the total amount of water that flows from the tap during *Fill* actions. (There is an issue that non-*Fill* actions have 0 cost, which in general can lead to indefinitely long solutions, but in this problem there is a finite number of states, so we're ok.)"
   ]
  },
  {
   "cell_type": "code",
   "execution_count": 10,
   "metadata": {},
   "outputs": [],
   "source": [
    "class GreenPourProblem(PourProblem): \n",
    "    \"\"\"A PourProblem in which we count not the steps, but the amount of water used.\"\"\"\n",
    "    def step_cost(self, s, action, s1):\n",
    "        \"The cost is the amount of water used in a fill.\"\n",
    "        act, i, *_ = action\n",
    "        return self.sizes[i] - s[i] if act == 'Fill' else 0"
   ]
  },
  {
   "cell_type": "markdown",
   "metadata": {},
   "source": [
    "# Specific Problems and Solutions\n",
    "\n",
    "Now that we have some domains, we can make specific problems in those domains, and solve them:\n",
    "\n",
    "\n"
   ]
  },
  {
   "cell_type": "code",
   "execution_count": 11,
   "metadata": {},
   "outputs": [],
   "source": [
    "random.seed('42')\n",
    "\n",
    "p1 = PourProblem((1, 1, 1), 13, sizes=(2, 16, 32))\n",
    "p2 = PourProblem((0, 0, 0), 21, sizes=(8, 11, 31))\n",
    "p3 = PourProblem((0, 0), 8, sizes=(7,9))\n",
    "p4 = PourProblem((0, 0, 0), 21, sizes=(8, 11, 31))\n",
    "p5 = PourProblem((0, 0), 4, sizes=(5, 3))\n",
    "\n",
    "g1 = GreenPourProblem((1, 1, 1), 13, sizes=(2, 16, 32))\n",
    "g2 = GreenPourProblem((0, 0, 0), 21, sizes=(8, 11, 31))\n",
    "g3 = GreenPourProblem((0, 0), 8, sizes=(7,9))\n",
    "g4 = GreenPourProblem((0, 0, 0), 21, sizes=(8, 11, 31))\n",
    "g5 = GreenPourProblem((0, 0), 4, sizes=(3, 5))\n",
    "\n",
    "r1 = RouteProblem('A', 'B', map=romania)\n",
    "r2 = RouteProblem('N', 'L', map=romania)\n",
    "r3 = RouteProblem('E', 'T', map=romania)\n",
    "r4 = RouteProblem('O', 'M', map=romania)\n",
    "\n",
    "cup = line(102, 44, -1, 0, 15) | line(102, 20, -1, 0, 20) | line(102, 44, 0, -1, 24)\n",
    "barriers = (line(50, 35, 0, -1, 10) | line(60, 37, 0, -1, 17) \n",
    "          | line(70, 31, 0, -1, 19) | line(5, 5, 0, 1, 50))\n",
    "\n",
    "d1 = GridProblem(obstacles=random_lines(N=100))\n",
    "d2 = GridProblem(obstacles=random_lines(N=150))\n",
    "d3 = GridProblem(obstacles=random_lines(N=200))\n",
    "d4 = GridProblem(obstacles=random_lines(N=250))\n",
    "d5 = GridProblem(obstacles=random_lines(N=300))\n",
    "d6 = GridProblem(obstacles=cup)\n",
    "d7 = GridProblem(obstacles=cup|barriers)\n",
    "\n",
    "e1 = EightPuzzle((4, 0, 2, 5, 1, 3, 7, 8, 6))\n",
    "e2 = EightPuzzle((0, 1, 2, 3, 4, 5, 6, 7, 8))\n",
    "e3 = EightPuzzle((1, 4, 2, 0, 7, 5, 3, 6, 8))\n",
    "e4 = EightPuzzle((2, 5, 8, 1, 4, 7, 0, 3, 6))\n",
    "e5 = EightPuzzle((8, 6, 7, 2, 5, 4, 3, 0, 1))"
   ]
  },
  {
   "cell_type": "code",
   "execution_count": 12,
   "metadata": {},
   "outputs": [
    {
     "data": {
      "text/plain": [
       "(418, ['A', 'S', 'R', 'P', 'B'])"
      ]
     },
     "execution_count": 12,
     "metadata": {},
     "output_type": "execute_result"
    }
   ],
   "source": [
    "# Solve a Romania route problem to get a node/path; see the cost and states in the path\n",
    "node = astar_search(r1)\n",
    "node.path_cost, path_states(node)"
   ]
  },
  {
   "cell_type": "code",
   "execution_count": 13,
   "metadata": {},
   "outputs": [
    {
     "data": {
      "text/plain": [
       "(450, ['A', 'S', 'F', 'B'])"
      ]
     },
     "execution_count": 13,
     "metadata": {},
     "output_type": "execute_result"
    }
   ],
   "source": [
    "# Breadth first search finds a solution with fewer steps, but higher path cost\n",
    "node = breadth_first_search(r1)\n",
    "node.path_cost, path_states(node)"
   ]
  },
  {
   "cell_type": "code",
   "execution_count": 14,
   "metadata": {},
   "outputs": [
    {
     "data": {
      "text/plain": [
       "([('Fill', 1), ('Pour', 1, 0), ('Dump', 0), ('Pour', 1, 0)],\n",
       " [(1, 1, 1), (1, 16, 1), (2, 15, 1), (0, 15, 1), (2, 13, 1)])"
      ]
     },
     "execution_count": 14,
     "metadata": {},
     "output_type": "execute_result"
    }
   ],
   "source": [
    "# Solve the PourProblem of getting 13 in some jug, and show the actions and states\n",
    "soln = breadth_first_search(p1)\n",
    "path_actions(soln), path_states(soln)"
   ]
  },
  {
   "cell_type": "code",
   "execution_count": 15,
   "metadata": {},
   "outputs": [
    {
     "name": "stdout",
     "output_type": "stream",
     "text": [
      "4 _ 2\n",
      "5 1 3\n",
      "7 8 6\n",
      "\n",
      "4 1 2\n",
      "5 _ 3\n",
      "7 8 6\n",
      "\n",
      "4 1 2\n",
      "_ 5 3\n",
      "7 8 6\n",
      "\n",
      "_ 1 2\n",
      "4 5 3\n",
      "7 8 6\n",
      "\n",
      "1 _ 2\n",
      "4 5 3\n",
      "7 8 6\n",
      "\n",
      "1 2 _\n",
      "4 5 3\n",
      "7 8 6\n",
      "\n",
      "1 2 3\n",
      "4 5 _\n",
      "7 8 6\n",
      "\n",
      "1 2 3\n",
      "4 5 6\n",
      "7 8 _\n",
      "\n"
     ]
    }
   ],
   "source": [
    "# Solve an 8 puzzle problem and print out each state\n",
    "\n",
    "for s in path_states(astar_search(e1)):\n",
    "    print(board8(s))"
   ]
  },
  {
   "cell_type": "markdown",
   "metadata": {},
   "source": [
    "# Reporting Summary Statistics on Search Algorithms\n",
    "\n",
    "Now let's gather some metrics on how well each algorithm does.  We'll use `CountCalls` to wrap a `Problem` object in such a way that calls to its methods are delegated to the original problem, but each call increments a counter. Once we've solved the problem, we print out summary statistics."
   ]
  },
  {
   "cell_type": "code",
   "execution_count": 16,
   "metadata": {},
   "outputs": [],
   "source": [
    "class CountCalls:\n",
    "    \"\"\"Delegate all attribute gets to the object, and count them in ._counts\"\"\"\n",
    "    def __init__(self, obj):\n",
    "        self._object = obj\n",
    "        self._counts = Counter()\n",
    "        \n",
    "    def __getattr__(self, attr):\n",
    "        \"Delegate to the original object, after incrementing a counter.\"\n",
    "        self._counts[attr] += 1\n",
    "        return getattr(self._object, attr)\n",
    "\n",
    "        \n",
    "def report(searchers, problems):\n",
    "    \"Show summary statistics for each searcher on each problem.\"\n",
    "    for searcher in searchers:\n",
    "        print(searcher.__name__ + ':')\n",
    "        total_counts = Counter()\n",
    "        for p in problems:\n",
    "            prob   = CountCalls(p)\n",
    "            soln   = searcher(prob)\n",
    "            counts = prob._counts; \n",
    "            counts.update(steps=len(soln), cost=soln.path_cost)\n",
    "            total_counts += counts\n",
    "            report_counts(counts, str(p)[:40])\n",
    "        report_counts(total_counts, 'TOTAL\\n')\n",
    "        \n",
    "def report_counts(counts, name):\n",
    "    \"Print one line of the counts report.\"\n",
    "    print('{:9,d} nodes |{:7,d} goal |{:5.0f} cost |{:3d} steps | {}'.format(\n",
    "          counts['result'], counts['is_goal'], counts['cost'], counts['steps'], name))"
   ]
  },
  {
   "cell_type": "markdown",
   "metadata": {},
   "source": [
    "Here's a tiny report for uniform-cost search on the jug pouring problems:"
   ]
  },
  {
   "cell_type": "code",
   "execution_count": 17,
   "metadata": {},
   "outputs": [
    {
     "name": "stdout",
     "output_type": "stream",
     "text": [
      "uniform_cost_search:\n",
      "      948 nodes |    109 goal |    4 cost |  4 steps | PourProblem((1, 1, 1), 13)\n",
      "    3,507 nodes |    390 goal |    9 cost |  9 steps | PourProblem((0, 0, 0), 21)\n",
      "      126 nodes |     31 goal |   14 cost | 14 steps | PourProblem((0, 0), 8)\n",
      "    3,507 nodes |    390 goal |    9 cost |  9 steps | PourProblem((0, 0, 0), 21)\n",
      "       50 nodes |     14 goal |    6 cost |  6 steps | PourProblem((0, 0), 4)\n",
      "    8,138 nodes |    934 goal |   42 cost | 42 steps | TOTAL\n",
      "\n"
     ]
    }
   ],
   "source": [
    "report([uniform_cost_search], [p1, p2, p3, p4, p5])"
   ]
  },
  {
   "cell_type": "markdown",
   "metadata": {},
   "source": [
    "The last line says that, over the five problems, unifirm-cost search  explored 8,138 nodes (some of which may be redundant paths ending up in duplicate states), and did 934 goal tests. Together, the five solutions had a path cost of 42 and also a total number of steps of 42 (since step cost is 1 in these problems). \n",
    "\n",
    "# Comparing uniform-cost and breadth-first search\n",
    "\n",
    "Below we compare uiniform-cost with breadth-first search, on the pouring problems and their green counterparts. We see that breadth-first finds solutions with the minimal number of steps, and uniform-cost finds optimal solutions with the minimal path cost. Overall they explore a similar number of states."
   ]
  },
  {
   "cell_type": "code",
   "execution_count": 18,
   "metadata": {},
   "outputs": [
    {
     "name": "stdout",
     "output_type": "stream",
     "text": [
      "uniform_cost_search:\n",
      "      948 nodes |    109 goal |    4 cost |  4 steps | PourProblem((1, 1, 1), 13)\n",
      "    1,696 nodes |    190 goal |   10 cost | 15 steps | GreenPourProblem((1, 1, 1), 13)\n",
      "    3,507 nodes |    390 goal |    9 cost |  9 steps | PourProblem((0, 0, 0), 21)\n",
      "    4,075 nodes |    455 goal |   21 cost | 10 steps | GreenPourProblem((0, 0, 0), 21)\n",
      "      126 nodes |     31 goal |   14 cost | 14 steps | PourProblem((0, 0), 8)\n",
      "      126 nodes |     31 goal |   35 cost | 16 steps | GreenPourProblem((0, 0), 8)\n",
      "    3,507 nodes |    390 goal |    9 cost |  9 steps | PourProblem((0, 0, 0), 21)\n",
      "    4,075 nodes |    455 goal |   21 cost | 10 steps | GreenPourProblem((0, 0, 0), 21)\n",
      "    3,507 nodes |    390 goal |    9 cost |  9 steps | PourProblem((0, 0, 0), 21)\n",
      "    4,075 nodes |    455 goal |   21 cost | 10 steps | GreenPourProblem((0, 0, 0), 21)\n",
      "   25,642 nodes |  2,896 goal |  153 cost |106 steps | TOTAL\n",
      "\n",
      "breadth_first_search:\n",
      "    1,116 nodes |    128 goal |    4 cost |  4 steps | PourProblem((1, 1, 1), 13)\n",
      "    1,116 nodes |    128 goal |   15 cost |  4 steps | GreenPourProblem((1, 1, 1), 13)\n",
      "    3,840 nodes |    423 goal |    9 cost |  9 steps | PourProblem((0, 0, 0), 21)\n",
      "    3,840 nodes |    423 goal |   32 cost |  9 steps | GreenPourProblem((0, 0, 0), 21)\n",
      "      126 nodes |     31 goal |   14 cost | 14 steps | PourProblem((0, 0), 8)\n",
      "      126 nodes |     31 goal |   36 cost | 14 steps | GreenPourProblem((0, 0), 8)\n",
      "    3,840 nodes |    423 goal |    9 cost |  9 steps | PourProblem((0, 0, 0), 21)\n",
      "    3,840 nodes |    423 goal |   32 cost |  9 steps | GreenPourProblem((0, 0, 0), 21)\n",
      "    3,840 nodes |    423 goal |    9 cost |  9 steps | PourProblem((0, 0, 0), 21)\n",
      "    3,840 nodes |    423 goal |   32 cost |  9 steps | GreenPourProblem((0, 0, 0), 21)\n",
      "   25,524 nodes |  2,856 goal |  192 cost | 90 steps | TOTAL\n",
      "\n"
     ]
    }
   ],
   "source": [
    "report((uniform_cost_search, breadth_first_search), \n",
    "       (p1, g1, p2, g2, p3, g3, p4, g4, p4, g4)) "
   ]
  },
  {
   "cell_type": "markdown",
   "metadata": {},
   "source": [
    "# Comparing optimal algorithms on 8-puzzle problems\n",
    "\n",
    "Next, let's look at the eight puzzle problems, and compare three optimal algorithms: A* search with the Manhattan heuristic; A* search with the less informative misplaced tiles heuristic, and uniform-cost search with no heuristic:"
   ]
  },
  {
   "cell_type": "code",
   "execution_count": 19,
   "metadata": {
    "scrolled": false
   },
   "outputs": [
    {
     "name": "stdout",
     "output_type": "stream",
     "text": [
      "astar_search:\n",
      "       34 nodes |     13 goal |    7 cost |  7 steps | EightPuzzle((4, 0, 2, 5, 1, 3, 7, 8, 6),\n",
      "    7,416 nodes |  2,729 goal |   22 cost | 22 steps | EightPuzzle((0, 1, 2, 3, 4, 5, 6, 7, 8),\n",
      "   13,655 nodes |  5,029 goal |   23 cost | 23 steps | EightPuzzle((1, 4, 2, 0, 7, 5, 3, 6, 8),\n",
      "   26,073 nodes |  9,681 goal |   24 cost | 24 steps | EightPuzzle((2, 5, 8, 1, 4, 7, 0, 3, 6),\n",
      "  194,835 nodes | 72,149 goal |   31 cost | 31 steps | EightPuzzle((8, 6, 7, 2, 5, 4, 3, 0, 1),\n",
      "  242,013 nodes | 89,601 goal |  107 cost |107 steps | TOTAL\n",
      "\n",
      "astar_misplaced_tiles:\n",
      "       38 nodes |     15 goal |    7 cost |  7 steps | EightPuzzle((4, 0, 2, 5, 1, 3, 7, 8, 6),\n",
      "   22,617 nodes |  8,331 goal |   22 cost | 22 steps | EightPuzzle((0, 1, 2, 3, 4, 5, 6, 7, 8),\n",
      "   37,970 nodes | 14,039 goal |   23 cost | 23 steps | EightPuzzle((1, 4, 2, 0, 7, 5, 3, 6, 8),\n",
      "   48,104 nodes | 17,800 goal |   24 cost | 24 steps | EightPuzzle((2, 5, 8, 1, 4, 7, 0, 3, 6),\n",
      "  385,079 nodes |143,850 goal |   31 cost | 31 steps | EightPuzzle((8, 6, 7, 2, 5, 4, 3, 0, 1),\n",
      "  493,808 nodes |184,035 goal |  107 cost |107 steps | TOTAL\n",
      "\n",
      "uniform_cost_search:\n",
      "      321 nodes |    117 goal |    7 cost |  7 steps | EightPuzzle((4, 0, 2, 5, 1, 3, 7, 8, 6),\n",
      "  217,282 nodes | 80,159 goal |   22 cost | 22 steps | EightPuzzle((0, 1, 2, 3, 4, 5, 6, 7, 8),\n",
      "  295,624 nodes |109,848 goal |   23 cost | 23 steps | EightPuzzle((1, 4, 2, 0, 7, 5, 3, 6, 8),\n",
      "  371,690 nodes |139,752 goal |   24 cost | 24 steps | EightPuzzle((2, 5, 8, 1, 4, 7, 0, 3, 6),\n",
      "  483,841 nodes |181,441 goal |   31 cost | 31 steps | EightPuzzle((8, 6, 7, 2, 5, 4, 3, 0, 1),\n",
      "1,368,758 nodes |511,317 goal |  107 cost |107 steps | TOTAL\n",
      "\n"
     ]
    }
   ],
   "source": [
    "def astar_misplaced_tiles(problem): return astar_search(problem, h=problem.h2)\n",
    "\n",
    "report([astar_search, astar_misplaced_tiles, uniform_cost_search], \n",
    "       [e1, e2, e3, e4, e5])"
   ]
  },
  {
   "cell_type": "markdown",
   "metadata": {},
   "source": [
    "We see that they all get the optimal solutions with the minimal path cost, but the better the heuristic, the fewer nodes explored.\n",
    "\n",
    "# Comparing different *h* weights on grid problems\n",
    "\n",
    "Below we report on grid problems using these four algorithms:\n",
    "\n",
    "|Algorithm|*f*|Optimality|\n",
    "|:---------|---:|:----------:|\n",
    "|Greedy best-first search | *f = h*|nonoptimal|\n",
    "|Weighted A* search | *f = g + 1.4 &times; h*|nonoptimal|\n",
    "|A* search | *f = g + h*|optimal|\n",
    "|Uniform-cost search | *f = g*|optimal|\n",
    "\n",
    "We will see that greedy best-first search (which ranks nodes solely by the heuristic) explores the fewest number of nodes, but has the highest path costs. Weighted A* search explores twice as many nodes (on this problem set) but gets 10% better path costs. A* is optimal, but explores more nodes, and uniform-cost is also optimal, but explores an order of magnitude more nodes."
   ]
  },
  {
   "cell_type": "code",
   "execution_count": 20,
   "metadata": {},
   "outputs": [
    {
     "name": "stdout",
     "output_type": "stream",
     "text": [
      "greedy_bfs:\n",
      "        9 nodes |      4 goal |  450 cost |  3 steps | RouteProblem(A, B)\n",
      "       30 nodes |     13 goal |  910 cost |  9 steps | RouteProblem(N, L)\n",
      "       19 nodes |      8 goal |  837 cost |  7 steps | RouteProblem(E, T)\n",
      "       14 nodes |      6 goal |  572 cost |  5 steps | RouteProblem(O, M)\n",
      "    1,704 nodes |    235 goal |  143 cost |129 steps | GridProblem((15, 30), (130, 30))\n",
      "      895 nodes |    131 goal |  131 cost |120 steps | GridProblem((15, 30), (130, 30))\n",
      "    5,694 nodes |    870 goal |  182 cost |150 steps | GridProblem((15, 30), (130, 30))\n",
      "    7,019 nodes |  1,094 goal |  186 cost |155 steps | GridProblem((15, 30), (130, 30))\n",
      "    9,076 nodes |  1,425 goal |  219 cost |184 steps | GridProblem((15, 30), (130, 30))\n",
      "   18,239 nodes |  2,439 goal |  134 cost |126 steps | GridProblem((15, 30), (130, 30))\n",
      "   18,339 nodes |  2,462 goal |  152 cost |135 steps | GridProblem((15, 30), (130, 30))\n",
      "      227 nodes |     84 goal |    7 cost |  7 steps | EightPuzzle((4, 0, 2, 5, 1, 3, 7, 8, 6),\n",
      "    2,565 nodes |    953 goal |   66 cost | 66 steps | EightPuzzle((0, 1, 2, 3, 4, 5, 6, 7, 8),\n",
      "      194 nodes |     71 goal |   31 cost | 31 steps | EightPuzzle((1, 4, 2, 0, 7, 5, 3, 6, 8),\n",
      "      222 nodes |     83 goal |   32 cost | 32 steps | EightPuzzle((2, 5, 8, 1, 4, 7, 0, 3, 6),\n",
      "   64,246 nodes |  9,878 goal | 4052 cost |1159 steps | TOTAL\n",
      "\n",
      "weighted_astar_search:\n",
      "        9 nodes |      4 goal |  450 cost |  3 steps | RouteProblem(A, B)\n",
      "       33 nodes |     15 goal |  910 cost |  9 steps | RouteProblem(N, L)\n",
      "       29 nodes |     12 goal |  805 cost |  8 steps | RouteProblem(E, T)\n",
      "       18 nodes |      8 goal |  445 cost |  5 steps | RouteProblem(O, M)\n",
      "    2,775 nodes |    400 goal |  130 cost |116 steps | GridProblem((15, 30), (130, 30))\n",
      "    1,127 nodes |    162 goal |  123 cost |115 steps | GridProblem((15, 30), (130, 30))\n",
      "   14,672 nodes |  2,079 goal |  152 cost |126 steps | GridProblem((15, 30), (130, 30))\n",
      "   40,084 nodes |  5,723 goal |  159 cost |127 steps | GridProblem((15, 30), (130, 30))\n",
      "    6,239 nodes |    942 goal |  178 cost |151 steps | GridProblem((15, 30), (130, 30))\n",
      "   12,122 nodes |  1,572 goal |  124 cost |115 steps | GridProblem((15, 30), (130, 30))\n",
      "   24,129 nodes |  3,141 goal |  127 cost |115 steps | GridProblem((15, 30), (130, 30))\n",
      "       36 nodes |     14 goal |    7 cost |  7 steps | EightPuzzle((4, 0, 2, 5, 1, 3, 7, 8, 6),\n",
      "    5,842 nodes |  2,171 goal |   24 cost | 24 steps | EightPuzzle((0, 1, 2, 3, 4, 5, 6, 7, 8),\n",
      "   11,145 nodes |  4,133 goal |   25 cost | 25 steps | EightPuzzle((1, 4, 2, 0, 7, 5, 3, 6, 8),\n",
      "   25,785 nodes |  9,573 goal |   24 cost | 24 steps | EightPuzzle((2, 5, 8, 1, 4, 7, 0, 3, 6),\n",
      "  144,045 nodes | 29,949 goal | 3684 cost |970 steps | TOTAL\n",
      "\n",
      "astar_search:\n",
      "       15 nodes |      6 goal |  418 cost |  4 steps | RouteProblem(A, B)\n",
      "       35 nodes |     16 goal |  910 cost |  9 steps | RouteProblem(N, L)\n",
      "       34 nodes |     15 goal |  805 cost |  8 steps | RouteProblem(E, T)\n",
      "       22 nodes |     10 goal |  445 cost |  5 steps | RouteProblem(O, M)\n",
      "   20,301 nodes |  2,710 goal |  125 cost |115 steps | GridProblem((15, 30), (130, 30))\n",
      "   14,402 nodes |  1,977 goal |  123 cost |115 steps | GridProblem((15, 30), (130, 30))\n",
      "   56,699 nodes |  7,992 goal |  152 cost |125 steps | GridProblem((15, 30), (130, 30))\n",
      "   46,924 nodes |  6,747 goal |  148 cost |128 steps | GridProblem((15, 30), (130, 30))\n",
      "   41,284 nodes |  5,641 goal |  177 cost |151 steps | GridProblem((15, 30), (130, 30))\n",
      "   25,311 nodes |  3,197 goal |  124 cost |115 steps | GridProblem((15, 30), (130, 30))\n",
      "   32,580 nodes |  4,150 goal |  127 cost |115 steps | GridProblem((15, 30), (130, 30))\n",
      "       34 nodes |     13 goal |    7 cost |  7 steps | EightPuzzle((4, 0, 2, 5, 1, 3, 7, 8, 6),\n",
      "    7,416 nodes |  2,729 goal |   22 cost | 22 steps | EightPuzzle((0, 1, 2, 3, 4, 5, 6, 7, 8),\n",
      "   13,655 nodes |  5,029 goal |   23 cost | 23 steps | EightPuzzle((1, 4, 2, 0, 7, 5, 3, 6, 8),\n",
      "   26,073 nodes |  9,681 goal |   24 cost | 24 steps | EightPuzzle((2, 5, 8, 1, 4, 7, 0, 3, 6),\n",
      "  284,785 nodes | 49,913 goal | 3630 cost |966 steps | TOTAL\n",
      "\n",
      "uniform_cost_search:\n",
      "       33 nodes |     14 goal |  418 cost |  4 steps | RouteProblem(A, B)\n",
      "       43 nodes |     20 goal |  910 cost |  9 steps | RouteProblem(N, L)\n",
      "       45 nodes |     21 goal |  805 cost |  8 steps | RouteProblem(E, T)\n",
      "       32 nodes |     13 goal |  445 cost |  5 steps | RouteProblem(O, M)\n",
      "  340,553 nodes | 43,097 goal |  125 cost |115 steps | GridProblem((15, 30), (130, 30))\n",
      "  329,343 nodes | 41,877 goal |  123 cost |115 steps | GridProblem((15, 30), (130, 30))\n",
      "  512,520 nodes | 65,024 goal |  152 cost |125 steps | GridProblem((15, 30), (130, 30))\n",
      "  495,142 nodes | 62,947 goal |  148 cost |128 steps | GridProblem((15, 30), (130, 30))\n",
      "  652,004 nodes | 82,524 goal |  177 cost |151 steps | GridProblem((15, 30), (130, 30))\n",
      "  348,982 nodes | 43,667 goal |  124 cost |115 steps | GridProblem((15, 30), (130, 30))\n",
      "  347,882 nodes | 43,604 goal |  127 cost |115 steps | GridProblem((15, 30), (130, 30))\n",
      "      321 nodes |    117 goal |    7 cost |  7 steps | EightPuzzle((4, 0, 2, 5, 1, 3, 7, 8, 6),\n",
      "  217,282 nodes | 80,159 goal |   22 cost | 22 steps | EightPuzzle((0, 1, 2, 3, 4, 5, 6, 7, 8),\n",
      "  295,624 nodes |109,848 goal |   23 cost | 23 steps | EightPuzzle((1, 4, 2, 0, 7, 5, 3, 6, 8),\n",
      "  371,690 nodes |139,752 goal |   24 cost | 24 steps | EightPuzzle((2, 5, 8, 1, 4, 7, 0, 3, 6),\n",
      "3,911,496 nodes |712,684 goal | 3630 cost |966 steps | TOTAL\n",
      "\n"
     ]
    }
   ],
   "source": [
    "report((greedy_bfs, weighted_astar_search,  astar_search, uniform_cost_search), \n",
    "       (r1, r2, r3, r4, d1, d2, d3, d4, d5, d6, d7, e1, e2, e3, e4))"
   ]
  },
  {
   "cell_type": "markdown",
   "metadata": {},
   "source": [
    "We see that greedy search expands the fewest nodes, but has the highest path costs. In contrast, A\\* gets optimal path costs, but expands 4 or 5 times more nodes. Weighted A* is a good compromise, using half the compute time as A\\*, and achieving path costs within  1% or 2% of optimal. Uniform-cost is optimal, but is an order of magnitude slower than A\\*.\n",
    "\n",
    "# Comparing  many search algorithms\n",
    "\n",
    "Finally, we compare a host of algorihms on some of the easier problems:"
   ]
  },
  {
   "cell_type": "code",
   "execution_count": 21,
   "metadata": {
    "scrolled": false
   },
   "outputs": [
    {
     "name": "stdout",
     "output_type": "stream",
     "text": [
      "astar_search:\n",
      "      948 nodes |    109 goal |    4 cost |  4 steps | PourProblem((1, 1, 1), 13)\n",
      "    1,696 nodes |    190 goal |   10 cost | 15 steps | GreenPourProblem((1, 1, 1), 13)\n",
      "       15 nodes |      6 goal |  418 cost |  4 steps | RouteProblem(A, B)\n",
      "       35 nodes |     16 goal |  910 cost |  9 steps | RouteProblem(N, L)\n",
      "       34 nodes |     15 goal |  805 cost |  8 steps | RouteProblem(E, T)\n",
      "       22 nodes |     10 goal |  445 cost |  5 steps | RouteProblem(O, M)\n",
      "       34 nodes |     13 goal |    7 cost |  7 steps | EightPuzzle((4, 0, 2, 5, 1, 3, 7, 8, 6),\n",
      "    2,784 nodes |    359 goal | 2599 cost | 52 steps | TOTAL\n",
      "\n",
      "uniform_cost_search:\n",
      "      948 nodes |    109 goal |    4 cost |  4 steps | PourProblem((1, 1, 1), 13)\n",
      "    1,696 nodes |    190 goal |   10 cost | 15 steps | GreenPourProblem((1, 1, 1), 13)\n",
      "       33 nodes |     14 goal |  418 cost |  4 steps | RouteProblem(A, B)\n",
      "       43 nodes |     20 goal |  910 cost |  9 steps | RouteProblem(N, L)\n",
      "       45 nodes |     21 goal |  805 cost |  8 steps | RouteProblem(E, T)\n",
      "       32 nodes |     13 goal |  445 cost |  5 steps | RouteProblem(O, M)\n",
      "      321 nodes |    117 goal |    7 cost |  7 steps | EightPuzzle((4, 0, 2, 5, 1, 3, 7, 8, 6),\n",
      "    3,118 nodes |    484 goal | 2599 cost | 52 steps | TOTAL\n",
      "\n",
      "breadth_first_search:\n",
      "    1,116 nodes |    128 goal |    4 cost |  4 steps | PourProblem((1, 1, 1), 13)\n",
      "    1,116 nodes |    128 goal |   15 cost |  4 steps | GreenPourProblem((1, 1, 1), 13)\n",
      "       29 nodes |     12 goal |  450 cost |  3 steps | RouteProblem(A, B)\n",
      "       45 nodes |     21 goal | 1085 cost |  9 steps | RouteProblem(N, L)\n",
      "       41 nodes |     19 goal |  837 cost |  7 steps | RouteProblem(E, T)\n",
      "       38 nodes |     16 goal |  445 cost |  5 steps | RouteProblem(O, M)\n",
      "      397 nodes |    144 goal |    7 cost |  7 steps | EightPuzzle((4, 0, 2, 5, 1, 3, 7, 8, 6),\n",
      "    2,782 nodes |    468 goal | 2843 cost | 39 steps | TOTAL\n",
      "\n",
      "breadth_first_bfs:\n",
      "      948 nodes |    109 goal |    4 cost |  4 steps | PourProblem((1, 1, 1), 13)\n",
      "    1,062 nodes |    124 goal |   15 cost |  4 steps | GreenPourProblem((1, 1, 1), 13)\n",
      "       31 nodes |     13 goal |  450 cost |  3 steps | RouteProblem(A, B)\n",
      "       56 nodes |     25 goal |  910 cost |  9 steps | RouteProblem(N, L)\n",
      "       52 nodes |     23 goal |  837 cost |  7 steps | RouteProblem(E, T)\n",
      "       42 nodes |     17 goal |  445 cost |  5 steps | RouteProblem(O, M)\n",
      "      321 nodes |    117 goal |    7 cost |  7 steps | EightPuzzle((4, 0, 2, 5, 1, 3, 7, 8, 6),\n",
      "    2,512 nodes |    428 goal | 2668 cost | 39 steps | TOTAL\n",
      "\n",
      "iterative_deepening_search:\n",
      "    7,610 nodes |  7,610 goal |    4 cost |  4 steps | PourProblem((1, 1, 1), 13)\n",
      "    7,610 nodes |  7,610 goal |   15 cost |  4 steps | GreenPourProblem((1, 1, 1), 13)\n",
      "       27 nodes |     27 goal |  450 cost |  3 steps | RouteProblem(A, B)\n",
      "    1,159 nodes |  1,159 goal |  910 cost |  9 steps | RouteProblem(N, L)\n",
      "      363 nodes |    363 goal |  837 cost |  7 steps | RouteProblem(E, T)\n",
      "      161 nodes |    161 goal |  572 cost |  5 steps | RouteProblem(O, M)\n",
      "    2,108 nodes |  2,108 goal |    7 cost |  7 steps | EightPuzzle((4, 0, 2, 5, 1, 3, 7, 8, 6),\n",
      "   19,038 nodes | 19,038 goal | 2795 cost | 39 steps | TOTAL\n",
      "\n",
      "depth_limited_search:\n",
      "    3,522 nodes |  3,522 goal |    6 cost |  6 steps | PourProblem((1, 1, 1), 13)\n",
      "    3,522 nodes |  3,522 goal |   16 cost |  6 steps | GreenPourProblem((1, 1, 1), 13)\n",
      "       69 nodes |     69 goal |  686 cost |  5 steps | RouteProblem(A, B)\n",
      "       59 nodes |     59 goal |  inf cost |  0 steps | RouteProblem(N, L)\n",
      "      100 nodes |    100 goal |  inf cost |  0 steps | RouteProblem(E, T)\n",
      "      126 nodes |    126 goal |  661 cost |  6 steps | RouteProblem(O, M)\n",
      "      803 nodes |    803 goal |  inf cost |  0 steps | EightPuzzle((4, 0, 2, 5, 1, 3, 7, 8, 6),\n",
      "    8,201 nodes |  8,201 goal |  inf cost | 23 steps | TOTAL\n",
      "\n",
      "greedy_bfs:\n",
      "      948 nodes |    109 goal |    4 cost |  4 steps | PourProblem((1, 1, 1), 13)\n",
      "    1,696 nodes |    190 goal |   10 cost | 15 steps | GreenPourProblem((1, 1, 1), 13)\n",
      "        9 nodes |      4 goal |  450 cost |  3 steps | RouteProblem(A, B)\n",
      "       30 nodes |     13 goal |  910 cost |  9 steps | RouteProblem(N, L)\n",
      "       19 nodes |      8 goal |  837 cost |  7 steps | RouteProblem(E, T)\n",
      "       14 nodes |      6 goal |  572 cost |  5 steps | RouteProblem(O, M)\n",
      "      227 nodes |     84 goal |    7 cost |  7 steps | EightPuzzle((4, 0, 2, 5, 1, 3, 7, 8, 6),\n",
      "    2,943 nodes |    414 goal | 2790 cost | 50 steps | TOTAL\n",
      "\n",
      "weighted_astar_search:\n",
      "      948 nodes |    109 goal |    4 cost |  4 steps | PourProblem((1, 1, 1), 13)\n",
      "    1,696 nodes |    190 goal |   10 cost | 15 steps | GreenPourProblem((1, 1, 1), 13)\n",
      "        9 nodes |      4 goal |  450 cost |  3 steps | RouteProblem(A, B)\n",
      "       33 nodes |     15 goal |  910 cost |  9 steps | RouteProblem(N, L)\n",
      "       29 nodes |     12 goal |  805 cost |  8 steps | RouteProblem(E, T)\n",
      "       18 nodes |      8 goal |  445 cost |  5 steps | RouteProblem(O, M)\n",
      "       36 nodes |     14 goal |    7 cost |  7 steps | EightPuzzle((4, 0, 2, 5, 1, 3, 7, 8, 6),\n",
      "    2,769 nodes |    352 goal | 2631 cost | 51 steps | TOTAL\n",
      "\n"
     ]
    }
   ],
   "source": [
    "report((astar_search, uniform_cost_search,  breadth_first_search, breadth_first_bfs, \n",
    "        iterative_deepening_search, depth_limited_search, greedy_bfs, weighted_astar_search), \n",
    "       (p1, g1, r1, r2, r3, r4, e1))"
   ]
  },
  {
   "cell_type": "markdown",
   "metadata": {},
   "source": [
    "This confirms some of the things we already knew: A* and uniform-cost search are optimal, but the others are not. A* explores fewer nodes than uniform-cost. And depth-limited search failed to find a solution for some of the problems, because the search was cut off too early."
   ]
  },
  {
   "cell_type": "markdown",
   "metadata": {},
   "source": [
    "# Visualizing Reached States\n",
    "\n",
    "I would like to draw a picture of the state space, marking the states that have been reached by the search.\n",
    "Unfortunately, the *reached* variable is inaccessible inside `best_first_search`, so I will define a new version of `best_first_search` that is identical except that it declares *reached* to be `global`. I can then define `plot_grid_problem` to plot the obstacles of a `GridProblem`, along with the initial and goal states, the solution path, and the states reached during a search."
   ]
  },
  {
   "cell_type": "code",
   "execution_count": 22,
   "metadata": {},
   "outputs": [],
   "source": [
    "def best_first_search(problem, f):\n",
    "    \"Search nodes with minimum f(node) value first; make `reached` global.\"\n",
    "    global reached # <<<<<<<<<<< Only change here\n",
    "    frontier = PriorityQueue([Node(problem.initial)], key=f)\n",
    "    reached = {}\n",
    "    while frontier:\n",
    "        node = frontier.pop()\n",
    "        if problem.is_goal(node.state):\n",
    "            return node\n",
    "        for child in expand(problem, node):\n",
    "            s = child.state\n",
    "            if s not in reached or child.path_cost < reached[s].path_cost:\n",
    "                reached[s] = child\n",
    "                frontier.add(child)\n",
    "    return failure\n",
    "\n",
    "def plot_grid_problem(grid, solution, reached=(), title='Search'):\n",
    "    \"Use matplotlib to plot the grid, obstacles, solution, and reached.\"\n",
    "    plt.figure(figsize=(15, 6))\n",
    "    plt.axis('off'); plt.axis('equal')\n",
    "    plt.scatter(*transpose(grid.obstacles), marker='s', color='darkgrey')\n",
    "    plt.scatter(*transpose([grid.initial, grid.goal]), 9**2, marker='D', c='red')\n",
    "    plt.scatter(*transpose(reached), 1**2, marker='.', c='blue')\n",
    "    plt.scatter(*transpose(path_states(solution)), marker='s', c='black')\n",
    "    plt.show()\n",
    "    print('{} {} search: {:.1f} path cost, {:,d} states reached'\n",
    "          .format(' ' * 10, title, solution.path_cost, len(reached)))\n",
    "    \n",
    "def transpose(matrix): return list(zip(*matrix))"
   ]
  },
  {
   "cell_type": "code",
   "execution_count": 23,
   "metadata": {},
   "outputs": [
    {
     "data": {
      "image/png": "[encoded data removed]",
      "text/plain": [
       "<Figure size 1080x432 with 1 Axes>"
      ]
     },
     "metadata": {
      "needs_background": "light"
     },
     "output_type": "display_data"
    },
    {
     "name": "stdout",
     "output_type": "stream",
     "text": [
      "           Search search: 151.5 path cost, 6,719 states reached\n"
     ]
    }
   ],
   "source": [
    "plot_grid_problem(d3, astar_search(d3), reached)"
   ]
  },
  {
   "cell_type": "markdown",
   "metadata": {},
   "source": [
    "Now let's compare the three heuristic search algorithms on the same grid:"
   ]
  },
  {
   "cell_type": "code",
   "execution_count": 24,
   "metadata": {},
   "outputs": [],
   "source": [
    "def plot3(grid, weight=1.9): \n",
    "    \"\"\"Plot the results of 3 search algorithms for this grid.\"\"\"\n",
    "    solution = astar_search(grid)\n",
    "    plot_grid_problem(grid, solution, reached, '(a) A*')\n",
    "    solution = weighted_astar_search(grid, weight)\n",
    "    plot_grid_problem(grid, solution, reached, '(b) Weighted A*')\n",
    "    solution = greedy_bfs(grid)\n",
    "    plot_grid_problem(grid, solution, reached, '(c) Greedy best-first')"
   ]
  },
  {
   "cell_type": "code",
   "execution_count": 25,
   "metadata": {},
   "outputs": [
    {
     "data": {
      "image/png": "[encoded data removed]",
      "text/plain": [
       "<Figure size 1080x432 with 1 Axes>"
      ]
     },
     "metadata": {
      "needs_background": "light"
     },
     "output_type": "display_data"
    },
    {
     "name": "stdout",
     "output_type": "stream",
     "text": [
      "           (a) A* search: 151.5 path cost, 6,719 states reached\n"
     ]
    },
    {
     "data": {
      "image/png": "[encoded data removed]",
      "text/plain": [
       "<Figure size 1080x432 with 1 Axes>"
      ]
     },
     "metadata": {
      "needs_background": "light"
     },
     "output_type": "display_data"
    },
    {
     "name": "stdout",
     "output_type": "stream",
     "text": [
      "           (b) Weighted A* search: 157.6 path cost, 792 states reached\n"
     ]
    },
    {
     "data": {
      "image/png": "[encoded data removed]",
      "text/plain": [
       "<Figure size 1080x432 with 1 Axes>"
      ]
     },
     "metadata": {
      "needs_background": "light"
     },
     "output_type": "display_data"
    },
    {
     "name": "stdout",
     "output_type": "stream",
     "text": [
      "           (c) Greedy best-first search: 181.9 path cost, 673 states reached\n"
     ]
    }
   ],
   "source": [
    "plot3(d3)"
   ]
  },
  {
   "cell_type": "code",
   "execution_count": 26,
   "metadata": {},
   "outputs": [
    {
     "data": {
      "image/png": "[encoded data removed]",
      "text/plain": [
       "<Figure size 1080x432 with 1 Axes>"
      ]
     },
     "metadata": {
      "needs_background": "light"
     },
     "output_type": "display_data"
    },
    {
     "name": "stdout",
     "output_type": "stream",
     "text": [
      "           (a) A* search: 148.3 path cost, 5,800 states reached\n"
     ]
    },
    {
     "data": {
      "image/png": "[encoded data removed]",
      "text/plain": [
       "<Figure size 1080x432 with 1 Axes>"
      ]
     },
     "metadata": {
      "needs_background": "light"
     },
     "output_type": "display_data"
    },
    {
     "name": "stdout",
     "output_type": "stream",
     "text": [
      "           (b) Weighted A* search: 161.9 path cost, 1,085 states reached\n"
     ]
    },
    {
     "data": {
      "image/png": "[encoded data removed]",
      "text/plain": [
       "<Figure size 1080x432 with 1 Axes>"
      ]
     },
     "metadata": {
      "needs_background": "light"
     },
     "output_type": "display_data"
    },
    {
     "name": "stdout",
     "output_type": "stream",
     "text": [
      "           (c) Greedy best-first search: 186.5 path cost, 795 states reached\n"
     ]
    }
   ],
   "source": [
    "plot3(d4)"
   ]
  },
  {
   "cell_type": "markdown",
   "metadata": {},
   "source": [
    "Now I want to try a much simpler grid problem, `d6`, with only a few obstacles. We see that A* finds the optimnal path, skirting below the obstacles. But weighted A* mistakenly takes the slightly longer path above the obstacles, because that path allowed it to stay closer to the goal in straight-line distance, which it over-weights. And greedy best-first search bad showing, not deviating from its pathg towards the goal until it is almost inside the cup made by the obstacles."
   ]
  },
  {
   "cell_type": "code",
   "execution_count": 27,
   "metadata": {},
   "outputs": [
    {
     "data": {
      "image/png": "[encoded data removed]",
      "text/plain": [
       "<Figure size 1080x432 with 1 Axes>"
      ]
     },
     "metadata": {
      "needs_background": "light"
     },
     "output_type": "display_data"
    },
    {
     "name": "stdout",
     "output_type": "stream",
     "text": [
      "           (a) A* search: 124.1 path cost, 3,305 states reached\n"
     ]
    },
    {
     "data": {
      "image/png": "[encoded data removed]",
      "text/plain": [
       "<Figure size 1080x432 with 1 Axes>"
      ]
     },
     "metadata": {
      "needs_background": "light"
     },
     "output_type": "display_data"
    },
    {
     "name": "stdout",
     "output_type": "stream",
     "text": [
      "           (b) Weighted A* search: 128.0 path cost, 891 states reached\n"
     ]
    },
    {
     "data": {
      "image/png": "[encoded data removed]",
      "text/plain": [
       "<Figure size 1080x432 with 1 Axes>"
      ]
     },
     "metadata": {
      "needs_background": "light"
     },
     "output_type": "display_data"
    },
    {
     "name": "stdout",
     "output_type": "stream",
     "text": [
      "           (c) Greedy best-first search: 133.9 path cost, 758 states reached\n"
     ]
    }
   ],
   "source": [
    "plot3(d6)"
   ]
  },
  {
   "cell_type": "markdown",
   "metadata": {},
   "source": [
    "In the next problem, `d7`, we see the optimal path found by A*, and we see that again weighted A* prefers to explore states closer to the goal, and ends up erroneously going below the first two barriers, and then makes another mistake by reversing direction back towards the goal and passing above the third barrier. Again, greedy best-first makes bad decisions all around."
   ]
  },
  {
   "cell_type": "code",
   "execution_count": 28,
   "metadata": {},
   "outputs": [
    {
     "data": {
      "image/png": "[encoded data removed]",
      "text/plain": [
       "<Figure size 1080x432 with 1 Axes>"
      ]
     },
     "metadata": {
      "needs_background": "light"
     },
     "output_type": "display_data"
    },
    {
     "name": "stdout",
     "output_type": "stream",
     "text": [
      "           (a) A* search: 127.4 path cost, 4,058 states reached\n"
     ]
    },
    {
     "data": {
      "image/png": "[encoded data removed]",
      "text/plain": [
       "<Figure size 1080x432 with 1 Axes>"
      ]
     },
     "metadata": {
      "needs_background": "light"
     },
     "output_type": "display_data"
    },
    {
     "name": "stdout",
     "output_type": "stream",
     "text": [
      "           (b) Weighted A* search: 139.8 path cost, 987 states reached\n"
     ]
    },
    {
     "data": {
      "image/png": "[encoded data removed]",
      "text/plain": [
       "<Figure size 1080x432 with 1 Axes>"
      ]
     },
     "metadata": {
      "needs_background": "light"
     },
     "output_type": "display_data"
    },
    {
     "name": "stdout",
     "output_type": "stream",
     "text": [
      "           (c) Greedy best-first search: 151.6 path cost, 830 states reached\n"
     ]
    }
   ],
   "source": [
    "plot3(d7)"
   ]
  },
  {
   "cell_type": "code",
   "execution_count": 29,
   "metadata": {},
   "outputs": [
    {
     "data": {
      "text/plain": [
       "'pass'"
      ]
     },
     "execution_count": 29,
     "metadata": {},
     "output_type": "execute_result"
    }
   ],
   "source": [
    "# Some tests\n",
    "\n",
    "def tests():\n",
    "    assert romania.distances['A', 'Z'] == 75\n",
    "    assert romania.locations['A'] == (91, 492)\n",
    "    assert set(romania.neighbors['A']) == {'Z', 'S', 'T'}\n",
    "    # Inversions for 8 puzzle\n",
    "    assert inversions((1, 2, 3, 4, 5, 6, 7, 8, 0)) == 0\n",
    "    assert inversions((1, 2, 3, 4, 6, 5, 8, 7, 0)) == 2 # 6 > 5, 8 > 7\n",
    "    assert line(0, 0, 1, 1, 5) == {(0, 0), (1, 1), (2, 2), (3, 3), (4, 4)}\n",
    "    return 'pass'\n",
    "    \n",
    "tests()"
   ]
  }
 ],
 "metadata": {
  "kernelspec": {
   "display_name": "Python 3",
   "language": "python",
   "name": "python3"
  },
  "language_info": {
   "codemirror_mode": {
    "name": "ipython",
    "version": 3
   },
   "file_extension": ".py",
   "mimetype": "text/x-python",
   "name": "python",
   "nbconvert_exporter": "python",
   "pygments_lexer": "ipython3",
   "version": "3.7.0"
  }
 },
 "nbformat": 4,
 "nbformat_minor": 2
}
