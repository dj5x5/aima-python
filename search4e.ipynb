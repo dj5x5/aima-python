{
 "cells": [
  {
   "cell_type": "markdown",
   "metadata": {},
   "source": [
    "# Search for AIMA 4th edition\n",
    "\n",
    "Implementation of search algorithms and search problems for AIMA.\n",
    "\n",
    "We start by defining the abstract class for a `Problem`; specific problem domains will subclass this, and then you can create individual problems with specific initial states and goals. We also define a `Node` in a search tree, and some functions on nodes: `expand` to generate successors; `path_actions` and `path_states`  to recover aspects of the path from the node.  "
   ]
  },
  {
   "cell_type": "code",
   "execution_count": 202,
   "metadata": {},
   "outputs": [],
   "source": [
    "%matplotlib inline\n",
    "import matplotlib.pyplot as plt\n",
    "import random\n",
    "import heapq\n",
    "import math\n",
    "import sys\n",
    "from collections import defaultdict, deque, Counter\n",
    "from itertools import combinations\n",
    "\n",
    "\n",
    "class Problem(object):\n",
    "    \"\"\"The abstract class for a formal problem. You should subclass this,\n",
    "    overriding `actions` and `results`, and other methods if desired.\n",
    "    The default heuristic is 0 and the default step cost is 1 for all states.\n",
    "    Subclasses can use other keywords besides initial and goal.\"\"\"\n",
    "\n",
    "    def __init__(self, initial=None, goal=None, **kwds): \n",
    "        self.__dict__.update(initial=initial, goal=goal, **kwds) \n",
    "        \n",
    "    def actions(self, state):           raise NotImplementedError\n",
    "    def result(self, state, action):    raise NotImplementedError\n",
    "    def is_goal(self, state):           return state == self.goal\n",
    "    def step_cost(self, s, action, s1): return 1\n",
    "    def h(self, node):                  return 0\n",
    "    \n",
    "\n",
    "class Node:\n",
    "    \"A Node in a search tree.\"\n",
    "    def __init__(self, state, parent=None, action=None, path_cost=0):\n",
    "        self.__dict__.update(state=state, parent=parent, action=action, path_cost=path_cost)\n",
    "\n",
    "    def __repr__(self): return '<{}>'.format(self.state)\n",
    "    def __len__(self): return 0 if self.parent is None else (1 + len(self.parent))\n",
    "    def __lt__(self, other): return self.state < other.state\n",
    "    \n",
    "failure = Node('failure', path_cost=math.inf) # Indicates an algorithm couldn't find a solution.\n",
    "cutoff  = Node('cutoff',  path_cost=math.inf) # Indicates iterative deeepening search was cut off.\n",
    "    \n",
    "    \n",
    "def expand(problem, node):\n",
    "    \"Expand a node, generating the children nodes.\"\n",
    "    s = node.state\n",
    "    for action in problem.actions(s):\n",
    "        s1 = problem.result(s, action)\n",
    "        cost = node.path_cost + problem.step_cost(s, action, s1)\n",
    "        yield Node(s1, node, action, cost)\n",
    "        \n",
    "\n",
    "def path_actions(node):\n",
    "    \"The sequence of actions to get to this node.\"\n",
    "    return [] if node.parent is None else path_actions(node.parent) + [node.action]\n",
    "\n",
    "\n",
    "def path_states(node):\n",
    "    \"The sequence of states to get to this node.\"\n",
    "    if node in (cutoff, failure, None): return []\n",
    "    return path_states(node.parent) + [node.state]"
   ]
  },
  {
   "cell_type": "markdown",
   "metadata": {},
   "source": [
    "# Queues\n",
    "\n",
    "First-in-first-out and Last-in-first-out queues, and a `PriorityQueue`, which allows you to keep a collection of items, and continually remove from it the item with minimum `f(item)` score."
   ]
  },
  {
   "cell_type": "code",
   "execution_count": 171,
   "metadata": {},
   "outputs": [],
   "source": [
    "FIFOQueue = deque\n",
    "\n",
    "LIFOQueue = list\n",
    "\n",
    "class PriorityQueue:\n",
    "    \"\"\"A queue in which the item with minimum f(item) is always popped first.\"\"\"\n",
    "\n",
    "    def __init__(self, items=(), key=lambda x: x): \n",
    "        self.key = key\n",
    "        self.items = [] # a heap of (score, item) pairs\n",
    "        for item in items:\n",
    "            self.add(item)\n",
    "         \n",
    "    def add(self, item):\n",
    "        \"\"\"Add item to the queuez.\"\"\"\n",
    "        pair = (self.key(item), item)\n",
    "        heapq.heappush(self.items, pair)\n",
    "\n",
    "    def pop(self):\n",
    "        \"\"\"Pop and return the item with min f(item) value.\"\"\"\n",
    "        return heapq.heappop(self.items)[1]\n",
    "    \n",
    "    def top(self): return self.items[0][1]\n",
    "\n",
    "    def __len__(self): return len(self.items)"
   ]
  },
  {
   "cell_type": "markdown",
   "metadata": {},
   "source": [
    "# Search Algorithms\n",
    "\n",
    "Here are the major state-space search algorithms covered in the book:"
   ]
  },
  {
   "cell_type": "code",
   "execution_count": 172,
   "metadata": {},
   "outputs": [],
   "source": [
    "def breadth_first_search(problem):\n",
    "    \"Search shallowest nodes in the search tree first.\"\n",
    "    frontier = FIFOQueue([Node(problem.initial)])\n",
    "    reached = set()\n",
    "    while frontier:\n",
    "        node = frontier.pop()\n",
    "        if problem.is_goal(node.state):\n",
    "            return node\n",
    "        for child in expand(problem, node):\n",
    "            s = child.state\n",
    "            if s not in reached:\n",
    "                reached.add(s)\n",
    "                frontier.appendleft(child)\n",
    "    return failure\n",
    "\n",
    "\n",
    "def depth_limited_search(problem, limit=5):\n",
    "    \"Search deepest nodes in the search tree first.\"\n",
    "    frontier = LIFOQueue([Node(problem.initial)])\n",
    "    solution = failure\n",
    "    while frontier:\n",
    "        node = frontier.pop()\n",
    "        if len(node) > limit:\n",
    "            solution = cutoff\n",
    "        else:\n",
    "            for child in expand(problem, node):\n",
    "                if problem.is_goal(child.state):\n",
    "                    return child\n",
    "                frontier.append(child)\n",
    "    return solution\n",
    "\n",
    "def iterative_deepening_search(problem):\n",
    "    \"Do depth-limited search with increasing depth limits.\"\n",
    "    for limit in range(1, sys.maxsize):\n",
    "        result = depth_limited_search(problem, limit)\n",
    "        if result != cutoff:\n",
    "            return result\n",
    "        \n",
    "## TODO: bidirectional_search, rbfs"
   ]
  },
  {
   "cell_type": "code",
   "execution_count": 173,
   "metadata": {},
   "outputs": [],
   "source": [
    "## Best-first search, with various f(n) functions:\n",
    "        \n",
    "def best_first_search(problem, f):\n",
    "    \"Search nodes with minimum f(node) value first.\"\n",
    "    frontier = PriorityQueue([Node(problem.initial)], key=f)\n",
    "    reached = {}\n",
    "    while frontier:\n",
    "        node = frontier.pop()\n",
    "        if problem.is_goal(node.state):\n",
    "            return node\n",
    "        for child in expand(problem, node):\n",
    "            s = child.state\n",
    "            if s not in reached or child.path_cost < reached[s].path_cost:\n",
    "                reached[s] = child\n",
    "                frontier.add(child)\n",
    "    return failure\n",
    "\n",
    "\n",
    "def astar_search(problem, h=None):\n",
    "    \"\"\"Search nodes with minimum f(n) = g(n) + h(n).\"\"\"\n",
    "    h = h or problem.h\n",
    "    return best_first_search(problem, f=lambda node: node.path_cost + h(node))\n",
    "\n",
    "\n",
    "def weighted_astar_search(problem, weight=1.4, h=None):\n",
    "    \"\"\"Search nodes with minimum f(n) = g(n) + h(n).\"\"\"\n",
    "    h = h or problem.h\n",
    "    return best_first_search(problem, f=lambda node: node.path_cost + weight * h(node))\n",
    "\n",
    "        \n",
    "def greedy_bfs(problem, h=None):\n",
    "    \"\"\"Search nodes with minimum h(n).\"\"\"\n",
    "    h = h or problem.h\n",
    "    return best_first_search(problem, f=h)\n",
    "\n",
    "\n",
    "def uniform_cost_search(problem):\n",
    "    \"Search nodes with minimum  path cost first.\"\n",
    "    return best_first_search(problem, f=lambda node: node.path_cost)\n",
    "\n",
    "\n",
    "def breadth_first_bfs(problem):\n",
    "    \"Search shallowest nodes in the search tree first; using best-first.\"\n",
    "    return best_first_search(problem, f=len)\n",
    "\n",
    "\n",
    "def depth_first_bfs(problem):\n",
    "    \"Search deepest nodes in the search tree first; using best-first.\"\n",
    "    return best_first_search(problem, f=lambda node: -len(node))"
   ]
  },
  {
   "cell_type": "markdown",
   "metadata": {},
   "source": [
    "# Problem Domains\n",
    "\n",
    "Now we turn our attention to defining some problem domains."
   ]
  },
  {
   "cell_type": "markdown",
   "metadata": {},
   "source": [
    "# Route Finding Problems"
   ]
  },
  {
   "cell_type": "code",
   "execution_count": 174,
   "metadata": {},
   "outputs": [],
   "source": [
    "class RouteProblem(Problem):\n",
    "    \"\"\"A problem to find a route between places on a map.\n",
    "    Use RouteProblem('S', 'G', map=Map(...)})\"\"\"\n",
    "    \n",
    "    def actions(self, state): \n",
    "        \"\"\"The places neighboring `state`. (Action names are same as place names.)\"\"\"\n",
    "        return self.map.neighbors[state]\n",
    "    \n",
    "    def result(self, state, action):\n",
    "        \"\"\"Go to the `action` place, if the map says that is possible.\"\"\"\n",
    "        return action if action in self.map.neighbors[state] else state\n",
    "    \n",
    "    def step_cost(self, s, action, s1):\n",
    "        \"\"\"The actual distance between s and s1.\"\"\"\n",
    "        return self.map.distances[s, s1]\n",
    "    \n",
    "    def h(self, node):\n",
    "        \"Straight-line distance between state and the goal.\"\n",
    "        locs = self.map.locations\n",
    "        return sldistance(locs[node.state], locs[self.goal])\n",
    "    \n",
    "def sldistance(A, B):\n",
    "    \"Straight-line distance between two 2D points.\"\n",
    "    return abs(complex(*A) - complex(*B))\n",
    "\n",
    "def multimap(pairs) -> dict:\n",
    "    \"Given (key, val) pairs, make a dict of {key: [val,...]}.\"\n",
    "    result = defaultdict(list)\n",
    "    for key, val in pairs:\n",
    "        result[key].append(val)\n",
    "    return result\n",
    "\n",
    "\n",
    "class Map:\n",
    "    \"\"\"A map of places in a 2D world: a graph with vertexes and links between them. \n",
    "    `links` can be either [(v1, v2)...] pairs, or {(v1, v2): distance...}.\n",
    "    If `directed=False` then for every (v1, v2) link, we add a (v2, v1).\n",
    "    `locations` is optional and can be {v1: (x, y)} 2D locations of vertexes.\"\"\"\n",
    "    def __init__(self, links, locations=None, directed=False):\n",
    "        if not hasattr(links, 'items'): # Make `links` into a dict\n",
    "            links = defaultdict(lambda: 1, links)\n",
    "        if not directed:\n",
    "            for (v1, v2) in list(links):\n",
    "                links[v2, v1] = links[v1, v2]\n",
    "        self.distances = links\n",
    "        self.locations = locations or defaultdict(lambda: (0, 0))\n",
    "        self.neighbors = multimap(links)\n",
    "\n",
    "\n",
    "romania = Map(\n",
    "    {('O', 'Z'): 71, ('O', 'S'): 151, ('A', 'Z'): 75, ('A', 'S'): 140, ('A', 'T'): 118, \n",
    "     ('L', 'T'): 111, ('L', 'M'): 70, ('D', 'M'): 75, ('C', 'D'): 120, ('C', 'R'): 146, \n",
    "     ('C', 'P'): 138, ('R', 'S'): 80, ('F', 'S'): 99, ('B', 'F'): 211, ('B', 'P'): 101, \n",
    "     ('B', 'G'): 90, ('B', 'U'): 85, ('H', 'U'): 98,  ('E', 'H'): 86, ('U', 'V'): 142, \n",
    "     ('I', 'V'): 92, ('I', 'N'): 87, ('P', 'R'): 97},\n",
    "    dict(\n",
    "    A=(91, 492), B=(400, 327), C=(253, 288), D=(165, 299), E=(562, 293), F=(305, 449),\n",
    "    G=(375, 270), H=(534, 350), I=(473, 506), L=(165, 379), M=(168, 339), N=(406, 537),\n",
    "    O=(131, 571), P=(320, 368), R=(233, 410), S=(207, 457), T=(94, 410), U=(456, 350),\n",
    "    V=(509, 444), Z=(108, 531)))"
   ]
  },
  {
   "cell_type": "code",
   "execution_count": 175,
   "metadata": {},
   "outputs": [
    {
     "data": {
      "text/plain": [
       "75"
      ]
     },
     "execution_count": 175,
     "metadata": {},
     "output_type": "execute_result"
    }
   ],
   "source": [
    "romania.distances['A', 'Z']"
   ]
  },
  {
   "cell_type": "code",
   "execution_count": 176,
   "metadata": {},
   "outputs": [
    {
     "data": {
      "text/plain": [
       "(91, 492)"
      ]
     },
     "execution_count": 176,
     "metadata": {},
     "output_type": "execute_result"
    }
   ],
   "source": [
    "romania.locations['A']"
   ]
  },
  {
   "cell_type": "code",
   "execution_count": 177,
   "metadata": {},
   "outputs": [
    {
     "data": {
      "text/plain": [
       "['Z', 'S', 'T']"
      ]
     },
     "execution_count": 177,
     "metadata": {},
     "output_type": "execute_result"
    }
   ],
   "source": [
    "romania.neighbors['A']"
   ]
  },
  {
   "cell_type": "markdown",
   "metadata": {},
   "source": [
    "# Grid Problems\n",
    "\n",
    "A kind of route-finding problem, but on a 2D grid, with some cells being impassible obstacles."
   ]
  },
  {
   "cell_type": "code",
   "execution_count": 178,
   "metadata": {},
   "outputs": [],
   "source": [
    "class GridProblem(Problem):\n",
    "    \"\"\"Finding a path on a 2D grid with obstacles. Obstacles are (x, y) cells.\"\"\"\n",
    "\n",
    "    def __init__(self, initial=(15, 30), goal=(130, 30), obstacles=(), **kwds):\n",
    "        Problem.__init__(self, initial=initial, goal=goal, \n",
    "                         obstacles=set(obstacles) - {initial, goal}, **kwds)\n",
    "\n",
    "    directions = [(-1, -1), (0, -1), (1, -1),\n",
    "                  (-1, 0),           (1,  0),\n",
    "                  (-1, +1), (0, +1), (1, +1)]\n",
    "    \n",
    "    def step_cost(self, s, action, s1): return sldistance(s, s1)\n",
    "    \n",
    "    def h(self, node): return sldistance(node.state, self.goal)\n",
    "                  \n",
    "    def result(self, state, action): \n",
    "        \"Both states and actions are represented by (x, y) pairs.\"\n",
    "        return action if action not in self.obstacles else state\n",
    "    \n",
    "    def actions(self, state):\n",
    "        \"\"\"You can move one cell in any of `directions` to a non-obstacle cell.\"\"\"\n",
    "        x, y = state\n",
    "        return [(x + dx, y + dy) for (dx, dy) in self.directions \n",
    "                if (x + dx, y + dy) not in self.obstacles] \n",
    "    \n",
    "## The following can be used to create obstacles:\n",
    "    \n",
    "def line(start, direction, length):\n",
    "    \"\"\"A line of (x, y) cells of given length, starting at start and going in direction.\"\"\"\n",
    "    (x, y), (dx, dy) = start, direction\n",
    "    return {(x + i * dx, y + i * dy) for i in range(length)}\n",
    "\n",
    "def random_lines(X=range(150), Y=range(60), dirs=((0, 1), (1, 0)), N=150, lengths=(3, 6, 12)):\n",
    "    \"\"\"Yield the cells in a collection of random lines of the given lengths.\"\"\"\n",
    "    dirs = ((0, 1), (1, 0))\n",
    "    for _ in range(N):\n",
    "        yield from line((random.choice(X), random.choice(Y)), \n",
    "                        random.choice(dirs), random.choice(lengths))"
   ]
  },
  {
   "cell_type": "markdown",
   "metadata": {},
   "source": [
    "# 8 Puzzle Problems\n",
    "\n"
   ]
  },
  {
   "cell_type": "code",
   "execution_count": 205,
   "metadata": {},
   "outputs": [],
   "source": [
    "class EightPuzzle(Problem):\n",
    "    \"\"\" The problem of sliding tiles numbered from 1 to 8 on a 3x3 board,\n",
    "    where one of the squares is a blank, trying to reach a goal configuration.\n",
    "    A board state is represented as a tuple of length 9, where the element at index i \n",
    "    represents the tile number at index i, or 0 if for the empty square, e.g. the goal:\n",
    "        1 2 3\n",
    "        4 5 6 ==> (1, 2, 3, 4, 5, 6, 7, 8, 0)\n",
    "        7 8 _\n",
    "    \"\"\"\n",
    "\n",
    "    def __init__(self, initial, goal=(1, 2, 3, 4, 5, 6, 7, 8, 0)):\n",
    "        assert inversions(initial) % 2 == inversions(goal) % 2 # Parity check\n",
    "        self.initial, self.goal = initial, goal\n",
    "    \n",
    "    def actions(self, state):\n",
    "        \"\"\"The indexes of the squares that the blank can move to.\"\"\"\n",
    "        moves = ((1, 3),    (0, 2, 4),    (1, 5),\n",
    "                 (0, 4, 6), (1, 3, 5, 7), (2, 4, 8),\n",
    "                 (3, 7),    (4, 6, 8),    (7, 5))\n",
    "        blank = state.index(0)\n",
    "        return moves[blank]\n",
    "    \n",
    "    def result(self, state, action):\n",
    "        \"\"\"Swap the blank with the square numbered `action`.\"\"\"\n",
    "        s = list(state)\n",
    "        blank = state.index(0)\n",
    "        s[action], s[blank] = s[blank], s[action]\n",
    "        return tuple(s)\n",
    "    \n",
    "    def h(self, node):\n",
    "        \"\"\"The misplaced tiles heuristic.\"\"\"\n",
    "        return sum(s != g for (s, g) in zip(node.state, self.goal))\n",
    "    \n",
    "\n",
    "def inversions(board):\n",
    "    \"The number of times a smaller non-blank number follows a larger number.\"\n",
    "    return sum((b < a and a != 0 and b != 0) for (a, b) in combinations(board, 2))\n",
    "    \n",
    "    \n",
    "def board8(board, fmt=(3 * '{} {} {}\\n')):\n",
    "    \"A string representing an 8-puzzle board\"\n",
    "    return fmt.format(*board).replace('0', '_')"
   ]
  },
  {
   "cell_type": "code",
   "execution_count": 209,
   "metadata": {},
   "outputs": [
    {
     "data": {
      "text/plain": [
       "(8, 0)"
      ]
     },
     "execution_count": 209,
     "metadata": {},
     "output_type": "execute_result"
    }
   ],
   "source": [
    "inversions((4, 0, 2, 5, 1, 3, 7, 8, 6)), inversions((1, 2, 3, 4, 5, 6, 7, 8)) "
   ]
  },
  {
   "cell_type": "code",
   "execution_count": 181,
   "metadata": {},
   "outputs": [
    {
     "name": "stdout",
     "output_type": "stream",
     "text": [
      "4 _ 2\n",
      "5 1 3\n",
      "7 8 6\n",
      "\n"
     ]
    }
   ],
   "source": [
    "print(board8((4, 0, 2, 5, 1, 3, 7, 8, 6)))"
   ]
  },
  {
   "cell_type": "markdown",
   "metadata": {},
   "source": [
    "# Water Pouring Problems\n",
    "\n",
    "In a [water pouring problem](https://en.wikipedia.org/wiki/Water_pouring_puzzle) you are given a collection of jugs, each of which has a size (capacity) in, say, ounces, and a current level of water (in ounces). The actions are:\n",
    "- *Fill* a jug all the way to the top (from a tap with unlimited water).\n",
    "- *Dump* all the water out of a jug.\n",
    "- *Pour* water from one jug to another, until either the first jug is empty, or the second is full, whichever comes first.\n",
    "\n",
    "The goal is to measure out a certain level of water; it can appear in any of the jugs.\n",
    "\n",
    "In a `GreenPourProblem`, the path cost is not the number of steps, but rather the total amount of water that flows from the tap during *Fill* actions. (There is an issue that non-*Fill* actions have 0 cost, which in general can lead to indefinitely long solutions, but in this problem there is a finite number of states, so we don't run into that problem.)\n"
   ]
  },
  {
   "cell_type": "code",
   "execution_count": 182,
   "metadata": {},
   "outputs": [],
   "source": [
    "class PourProblem(Problem):\n",
    "    \"\"\"Problem about pouring water between jugs to achieve some water level.\n",
    "    Each state is a tuples of water levels. In the initialization, also provide a tuple of \n",
    "    jug sizes, e.g. PourProblem(initial=(2, 4, 3), goal=7, sizes=(8, 16, 32)), \n",
    "    which means three jugs of sizes (8, 16, 32), initially filled with (2, 4, 3) units of \n",
    "    water, respectively, and the goal is to get a level of 7 in any one of the jugs.\"\"\"\n",
    "    \n",
    "    def actions(self, state):\n",
    "        \"\"\"The actions executable in this state.\"\"\"\n",
    "        jugs = range(len(state))\n",
    "        return ([('Fill', i)    for i in jugs if state[i] < self.sizes[i]] +\n",
    "                [('Dump', i)    for i in jugs if state[i]] +\n",
    "                [('Pour', i, j) for i in jugs if state[i] for j in jugs if i != j])\n",
    "\n",
    "    def result(self, state, action):\n",
    "        \"\"\"The state that results from executing this action in this state.\"\"\"\n",
    "        result = list(state)\n",
    "        act, i, *_ = action\n",
    "        if act == 'Fill':   # Fill i to capacity\n",
    "            result[i] = self.sizes[i]\n",
    "        elif act == 'Dump': # Empty i\n",
    "            result[i] = 0\n",
    "        elif act == 'Pour': # Pour from i into j\n",
    "            j = action[2]\n",
    "            amount = min(state[i], self.sizes[j] - state[j])\n",
    "            result[i] -= amount\n",
    "            result[j] += amount\n",
    "        return tuple(result)\n",
    "\n",
    "    def is_goal(self, state):\n",
    "        \"\"\"True if the goal level is in any one of the jugs.\"\"\"\n",
    "        return self.goal in state\n",
    "    \n",
    "    \n",
    "class GreenPourProblem(PourProblem): \n",
    "    \"\"\"A PourProblem in which we count not the steps, but the amount of water used.\"\"\"\n",
    "    def step_cost(self, s, action, s1):\n",
    "        \"The cost is the amount of water used in a fill.\"\n",
    "        act, i, *_ = action\n",
    "        return self.sizes[i] - s[i] if act == 'Fill' else 0"
   ]
  },
  {
   "cell_type": "markdown",
   "metadata": {},
   "source": [
    "# Specific Problems and Solutions\n",
    "\n",
    "Now that we have some domains, we can make specific problems in those domains, and solve them:\n",
    "\n",
    "\n"
   ]
  },
  {
   "cell_type": "code",
   "execution_count": 210,
   "metadata": {},
   "outputs": [],
   "source": [
    "p1 = PourProblem((1, 1, 1), 13, sizes=(2, 16, 32))\n",
    "p2 = PourProblem((0, 0, 0), 21, sizes=(8, 11, 31))\n",
    "p3 = PourProblem((0, 0), 8, sizes=(7,9))\n",
    "p4 = PourProblem((0, 0, 0), 21, sizes=(8, 11, 31))\n",
    "\n",
    "g1 = GreenPourProblem((1, 1, 1), 13, sizes=(2, 16, 32))\n",
    "g2 = GreenPourProblem((0, 0, 0), 21, sizes=(8, 11, 31))\n",
    "g3 = GreenPourProblem((0, 0), 8, sizes=(7,9))\n",
    "g4 = GreenPourProblem((0, 0, 0), 21, sizes=(8, 11, 31))\n",
    "\n",
    "r1 = RouteProblem('A', 'B', map=romania)\n",
    "r2 = RouteProblem('N', 'L', map=romania)\n",
    "r3 = RouteProblem('E', 'T', map=romania)\n",
    "r4 = RouteProblem('O', 'M', map=romania)\n",
    "\n",
    "d1 = GridProblem(obstacles=random_lines(N=50))\n",
    "d2 = GridProblem(obstacles=random_lines(N=100))\n",
    "d3 = GridProblem(obstacles=random_lines(N=150))\n",
    "d4 = GridProblem(obstacles=random_lines(N=200))\n",
    "\n",
    "e1 = EightPuzzle((4, 0, 2, 5, 1, 3, 7, 8, 6))\n",
    "e2 = EightPuzzle((1, 4, 2, 0, 7, 5, 3, 6, 8))\n",
    "e3 = EightPuzzle((2, 5, 8, 1, 4, 7, 0, 3, 6))\n",
    "e4 = EightPuzzle((0, 1, 2, 3, 4, 5, 6, 7, 8))"
   ]
  },
  {
   "cell_type": "code",
   "execution_count": 184,
   "metadata": {},
   "outputs": [
    {
     "data": {
      "text/plain": [
       "(418, ['A', 'S', 'R', 'P', 'B'])"
      ]
     },
     "execution_count": 184,
     "metadata": {},
     "output_type": "execute_result"
    }
   ],
   "source": [
    "# Solve a problem (which gives a node/path) and see the cost and states in the path\n",
    "node = astar_search(r1)\n",
    "node.path_cost, path_states(node)"
   ]
  },
  {
   "cell_type": "code",
   "execution_count": 185,
   "metadata": {},
   "outputs": [
    {
     "data": {
      "text/plain": [
       "(450, ['A', 'S', 'F', 'B'])"
      ]
     },
     "execution_count": 185,
     "metadata": {},
     "output_type": "execute_result"
    }
   ],
   "source": [
    "# Breadth first search finds a solution with fewer steps, but higher path cost\n",
    "node = breadth_first_search(r1)\n",
    "node.path_cost, path_states(node)"
   ]
  },
  {
   "cell_type": "code",
   "execution_count": 186,
   "metadata": {},
   "outputs": [
    {
     "data": {
      "text/plain": [
       "([('Fill', 1), ('Pour', 1, 0), ('Dump', 0), ('Pour', 1, 0)],\n",
       " [(1, 1, 1), (1, 16, 1), (2, 15, 1), (0, 15, 1), (2, 13, 1)])"
      ]
     },
     "execution_count": 186,
     "metadata": {},
     "output_type": "execute_result"
    }
   ],
   "source": [
    "# Solve a PourProblem and recover the actions and states\n",
    "soln = breadth_first_search(p1)\n",
    "path_actions(soln), path_states(soln)"
   ]
  },
  {
   "cell_type": "code",
   "execution_count": 187,
   "metadata": {},
   "outputs": [
    {
     "name": "stdout",
     "output_type": "stream",
     "text": [
      "4 _ 2\n",
      "5 1 3\n",
      "7 8 6\n",
      "\n",
      "4 1 2\n",
      "5 _ 3\n",
      "7 8 6\n",
      "\n",
      "4 1 2\n",
      "_ 5 3\n",
      "7 8 6\n",
      "\n",
      "_ 1 2\n",
      "4 5 3\n",
      "7 8 6\n",
      "\n",
      "1 _ 2\n",
      "4 5 3\n",
      "7 8 6\n",
      "\n",
      "1 2 _\n",
      "4 5 3\n",
      "7 8 6\n",
      "\n",
      "1 2 3\n",
      "4 5 _\n",
      "7 8 6\n",
      "\n",
      "1 2 3\n",
      "4 5 6\n",
      "7 8 _\n",
      "\n"
     ]
    }
   ],
   "source": [
    "# Solve an 8 puzzle problem and print out each state\n",
    "\n",
    "for s in path_states(astar_search(e1)):\n",
    "    print(board8(s))"
   ]
  },
  {
   "cell_type": "markdown",
   "metadata": {},
   "source": [
    "# Reporting Metrics\n",
    "\n",
    "Now let's gather some metrics on how well each algorithm does.  We'll use `CountCalls` to wrap a `Problem` object in such a way that calls to its methods are delegated, but each call increments a counter. Once we've solved the problem, we print out summary statistics."
   ]
  },
  {
   "cell_type": "code",
   "execution_count": 188,
   "metadata": {},
   "outputs": [],
   "source": [
    "class CountCalls:\n",
    "    \"\"\"Delegate all attribute accesses to the object, and count them in ._counts\"\"\"\n",
    "    def __init__(self, obj):\n",
    "        self._object = obj\n",
    "        self._counts = Counter()\n",
    "        \n",
    "    def __getattr__(self, attr):\n",
    "        self._counts[attr] += 1\n",
    "        return getattr(self._object, attr)\n",
    "        \n",
    "def report(searchers, problems):\n",
    "    \"Show metrics for each searcher on each problem.\"\n",
    "    for searcher in searchers:\n",
    "        print(searcher.__name__ + ':')\n",
    "        total_counts = Counter()\n",
    "        for p in problems:\n",
    "            prob   = CountCalls(p)\n",
    "            soln   = searcher(prob)\n",
    "            counts = prob._counts; \n",
    "            counts.update(len=len(path_actions(soln)), cost=soln.path_cost)\n",
    "            total_counts += counts\n",
    "            report_line(counts, type(p).__name__)\n",
    "        report_line(total_counts, 'TOTAL\\n')\n",
    "        \n",
    "def report_line(counts, name):\n",
    "    \"Print one line of the report.\"\n",
    "    print('{:9,d} explored |{:7,d} goal |{:5.0f} cost |{:3d} steps | {}'\n",
    "          .format(counts['result'], counts['is_goal'], \n",
    "                  counts['cost'], counts['len'], name))"
   ]
  },
  {
   "cell_type": "code",
   "execution_count": 189,
   "metadata": {},
   "outputs": [
    {
     "name": "stdout",
     "output_type": "stream",
     "text": [
      "astar_search:\n",
      "    1,325 explored |    151 goal |    4 cost |  4 steps | PourProblem\n",
      "    3,381 explored |    379 goal |    9 cost |  9 steps | PourProblem\n",
      "      126 explored |     31 goal |   14 cost | 14 steps | PourProblem\n",
      "    3,381 explored |    379 goal |    9 cost |  9 steps | PourProblem\n",
      "    8,213 explored |    940 goal |   36 cost | 36 steps | TOTAL\n",
      "\n"
     ]
    }
   ],
   "source": [
    "# Here's a tiny report\n",
    "report([astar_search], [p1, p2, p3, p4])"
   ]
  },
  {
   "cell_type": "markdown",
   "metadata": {},
   "source": [
    "The last line says that, over the four problems the `astar_search` algorithm explored 8,213 nodes and did 940 goal tests. Together, the four solutions had a path cost of 36 and also a total number of steps of 36 (since step cost is 1 in these problems). \n",
    "\n",
    "Now let's do a bigger report:"
   ]
  },
  {
   "cell_type": "code",
   "execution_count": 190,
   "metadata": {
    "scrolled": false
   },
   "outputs": [
    {
     "name": "stdout",
     "output_type": "stream",
     "text": [
      "astar_search:\n",
      "    1,325 explored |    151 goal |    4 cost |  4 steps | PourProblem\n",
      "    1,646 explored |    186 goal |   10 cost | 12 steps | GreenPourProblem\n",
      "       15 explored |      6 goal |  418 cost |  4 steps | RouteProblem\n",
      "       35 explored |     16 goal |  910 cost |  9 steps | RouteProblem\n",
      "       34 explored |     15 goal |  805 cost |  8 steps | RouteProblem\n",
      "       22 explored |     10 goal |  445 cost |  5 steps | RouteProblem\n",
      "       29 explored |     12 goal |    7 cost |  7 steps | EightPuzzle\n",
      "    3,106 explored |    396 goal | 2599 cost | 49 steps | TOTAL\n",
      "\n",
      "uniform_cost_search:\n",
      "    1,325 explored |    151 goal |    4 cost |  4 steps | PourProblem\n",
      "    1,646 explored |    186 goal |   10 cost | 12 steps | GreenPourProblem\n",
      "       33 explored |     14 goal |  418 cost |  4 steps | RouteProblem\n",
      "       43 explored |     20 goal |  910 cost |  9 steps | RouteProblem\n",
      "       45 explored |     21 goal |  805 cost |  8 steps | RouteProblem\n",
      "       32 explored |     13 goal |  445 cost |  5 steps | RouteProblem\n",
      "      335 explored |    125 goal |    7 cost |  7 steps | EightPuzzle\n",
      "    3,459 explored |    530 goal | 2599 cost | 49 steps | TOTAL\n",
      "\n",
      "breadth_first_search:\n",
      "    1,116 explored |    128 goal |    4 cost |  4 steps | PourProblem\n",
      "    1,116 explored |    128 goal |   15 cost |  4 steps | GreenPourProblem\n",
      "       29 explored |     12 goal |  450 cost |  3 steps | RouteProblem\n",
      "       45 explored |     21 goal | 1085 cost |  9 steps | RouteProblem\n",
      "       41 explored |     19 goal |  837 cost |  7 steps | RouteProblem\n",
      "       38 explored |     16 goal |  445 cost |  5 steps | RouteProblem\n",
      "      397 explored |    144 goal |    7 cost |  7 steps | EightPuzzle\n",
      "    2,782 explored |    468 goal | 2843 cost | 39 steps | TOTAL\n",
      "\n",
      "breadth_first_bfs:\n",
      "    1,325 explored |    151 goal |    4 cost |  4 steps | PourProblem\n",
      "    1,487 explored |    173 goal |   15 cost |  4 steps | GreenPourProblem\n",
      "       31 explored |     13 goal |  450 cost |  3 steps | RouteProblem\n",
      "       54 explored |     24 goal |  910 cost |  9 steps | RouteProblem\n",
      "       50 explored |     22 goal |  837 cost |  7 steps | RouteProblem\n",
      "       54 explored |     23 goal |  445 cost |  5 steps | RouteProblem\n",
      "      335 explored |    125 goal |    7 cost |  7 steps | EightPuzzle\n",
      "    3,336 explored |    531 goal | 2668 cost | 39 steps | TOTAL\n",
      "\n",
      "iterative_deepening_search:\n",
      "    7,610 explored |  7,610 goal |    4 cost |  4 steps | PourProblem\n",
      "    7,610 explored |  7,610 goal |   15 cost |  4 steps | GreenPourProblem\n",
      "       27 explored |     27 goal |  450 cost |  3 steps | RouteProblem\n",
      "    1,159 explored |  1,159 goal |  910 cost |  9 steps | RouteProblem\n",
      "      363 explored |    363 goal |  837 cost |  7 steps | RouteProblem\n",
      "      161 explored |    161 goal |  572 cost |  5 steps | RouteProblem\n",
      "    2,108 explored |  2,108 goal |    7 cost |  7 steps | EightPuzzle\n",
      "   19,038 explored | 19,038 goal | 2795 cost | 39 steps | TOTAL\n",
      "\n",
      "depth_limited_search:\n",
      "    3,522 explored |  3,522 goal |    6 cost |  6 steps | PourProblem\n",
      "    3,522 explored |  3,522 goal |   16 cost |  6 steps | GreenPourProblem\n",
      "       69 explored |     69 goal |  686 cost |  5 steps | RouteProblem\n",
      "       59 explored |     59 goal |  inf cost |  0 steps | RouteProblem\n",
      "      100 explored |    100 goal |  inf cost |  0 steps | RouteProblem\n",
      "      126 explored |    126 goal |  661 cost |  6 steps | RouteProblem\n",
      "      803 explored |    803 goal |  inf cost |  0 steps | EightPuzzle\n",
      "    8,201 explored |  8,201 goal |  inf cost | 23 steps | TOTAL\n",
      "\n",
      "greedy_bfs:\n",
      "    1,075 explored |    141 goal |   12 cost | 12 steps | PourProblem\n",
      "    1,096 explored |    146 goal |   10 cost | 12 steps | GreenPourProblem\n",
      "        9 explored |      4 goal |  450 cost |  3 steps | RouteProblem\n",
      "       30 explored |     13 goal |  910 cost |  9 steps | RouteProblem\n",
      "       19 explored |      8 goal |  837 cost |  7 steps | RouteProblem\n",
      "       14 explored |      6 goal |  572 cost |  5 steps | RouteProblem\n",
      "    3,067 explored |  1,128 goal |   39 cost | 39 steps | EightPuzzle\n",
      "    5,310 explored |  1,446 goal | 2830 cost | 87 steps | TOTAL\n",
      "\n",
      "weighted_astar_search:\n",
      "    1,325 explored |    151 goal |    4 cost |  4 steps | PourProblem\n",
      "    1,646 explored |    186 goal |   10 cost | 12 steps | GreenPourProblem\n",
      "        9 explored |      4 goal |  450 cost |  3 steps | RouteProblem\n",
      "       33 explored |     15 goal |  910 cost |  9 steps | RouteProblem\n",
      "       29 explored |     12 goal |  805 cost |  8 steps | RouteProblem\n",
      "       18 explored |      8 goal |  445 cost |  5 steps | RouteProblem\n",
      "       38 explored |     15 goal |    7 cost |  7 steps | EightPuzzle\n",
      "    3,098 explored |    391 goal | 2631 cost | 48 steps | TOTAL\n",
      "\n"
     ]
    }
   ],
   "source": [
    "report((astar_search, uniform_cost_search,  breadth_first_search, \n",
    "        breadth_first_bfs, iterative_deepening_search, depth_limited_search,\n",
    "        greedy_bfs, weighted_astar_search), \n",
    "       (p1, g1, r1, r2, r3, r4, e1)) # Some easy problems"
   ]
  },
  {
   "cell_type": "code",
   "execution_count": 191,
   "metadata": {},
   "outputs": [
    {
     "name": "stdout",
     "output_type": "stream",
     "text": [
      "uniform_cost_search:\n",
      "    1,325 explored |    151 goal |    4 cost |  4 steps | PourProblem\n",
      "    1,646 explored |    186 goal |   10 cost | 12 steps | GreenPourProblem\n",
      "    3,381 explored |    379 goal |    9 cost |  9 steps | PourProblem\n",
      "    4,048 explored |    452 goal |   21 cost | 19 steps | GreenPourProblem\n",
      "      126 explored |     31 goal |   14 cost | 14 steps | PourProblem\n",
      "      126 explored |     31 goal |   35 cost | 16 steps | GreenPourProblem\n",
      "    3,381 explored |    379 goal |    9 cost |  9 steps | PourProblem\n",
      "    4,048 explored |    452 goal |   21 cost | 19 steps | GreenPourProblem\n",
      "   18,081 explored |  2,061 goal |  123 cost |102 steps | TOTAL\n",
      "\n",
      "breadth_first_search:\n",
      "    1,116 explored |    128 goal |    4 cost |  4 steps | PourProblem\n",
      "    1,116 explored |    128 goal |   15 cost |  4 steps | GreenPourProblem\n",
      "    3,840 explored |    423 goal |    9 cost |  9 steps | PourProblem\n",
      "    3,840 explored |    423 goal |   32 cost |  9 steps | GreenPourProblem\n",
      "      126 explored |     31 goal |   14 cost | 14 steps | PourProblem\n",
      "      126 explored |     31 goal |   36 cost | 14 steps | GreenPourProblem\n",
      "    3,840 explored |    423 goal |    9 cost |  9 steps | PourProblem\n",
      "    3,840 explored |    423 goal |   32 cost |  9 steps | GreenPourProblem\n",
      "   17,844 explored |  2,010 goal |  151 cost | 72 steps | TOTAL\n",
      "\n"
     ]
    }
   ],
   "source": [
    "report((uniform_cost_search, breadth_first_search), \n",
    "       (p1, g1, p2, g2, p3, g3, p4, g4)) # The pouring problems, with no heuristic"
   ]
  },
  {
   "cell_type": "code",
   "execution_count": 134,
   "metadata": {},
   "outputs": [
    {
     "name": "stdout",
     "output_type": "stream",
     "text": [
      "astar_search:\n",
      "       15 explored |      6 goal |  418 cost |  4 steps | RouteProblem\n",
      "       35 explored |     16 goal |  910 cost |  9 steps | RouteProblem\n",
      "       34 explored |     15 goal |  805 cost |  8 steps | RouteProblem\n",
      "       22 explored |     10 goal |  445 cost |  5 steps | RouteProblem\n",
      "   16,404 explored |  2,123 goal |  121 cost |115 steps | GridProblem\n",
      "   22,941 explored |  3,028 goal |  124 cost |115 steps | GridProblem\n",
      "    9,378 explored |  1,293 goal |  122 cost |115 steps | GridProblem\n",
      "   11,461 explored |  1,579 goal |  121 cost |115 steps | GridProblem\n",
      "       29 explored |     12 goal |    7 cost |  7 steps | EightPuzzle\n",
      "   27,461 explored | 10,339 goal |   23 cost | 23 steps | EightPuzzle\n",
      "   37,562 explored | 14,120 goal |   24 cost | 24 steps | EightPuzzle\n",
      "   15,951 explored |  5,990 goal |   22 cost | 22 steps | EightPuzzle\n",
      "  141,293 explored | 38,531 goal | 3142 cost |562 steps | TOTAL\n",
      "\n",
      "greedy_bfs:\n",
      "        9 explored |      4 goal |  450 cost |  3 steps | RouteProblem\n",
      "       30 explored |     13 goal |  910 cost |  9 steps | RouteProblem\n",
      "       19 explored |      8 goal |  837 cost |  7 steps | RouteProblem\n",
      "       14 explored |      6 goal |  572 cost |  5 steps | RouteProblem\n",
      "      965 explored |    129 goal |  126 cost |118 steps | GridProblem\n",
      "      973 explored |    132 goal |  131 cost |121 steps | GridProblem\n",
      "      874 explored |    126 goal |  125 cost |117 steps | GridProblem\n",
      "      879 explored |    126 goal |  130 cost |118 steps | GridProblem\n",
      "    3,067 explored |  1,128 goal |   39 cost | 39 steps | EightPuzzle\n",
      "    1,569 explored |    586 goal |   75 cost | 75 steps | EightPuzzle\n",
      "    1,729 explored |    646 goal |   70 cost | 70 steps | EightPuzzle\n",
      "    2,654 explored |    989 goal |   72 cost | 72 steps | EightPuzzle\n",
      "   12,782 explored |  3,893 goal | 3537 cost |754 steps | TOTAL\n",
      "\n",
      "weighted_astar_search:\n",
      "        9 explored |      4 goal |  450 cost |  3 steps | RouteProblem\n",
      "       33 explored |     15 goal |  910 cost |  9 steps | RouteProblem\n",
      "       29 explored |     12 goal |  805 cost |  8 steps | RouteProblem\n",
      "       18 explored |      8 goal |  445 cost |  5 steps | RouteProblem\n",
      "    1,349 explored |    181 goal |  121 cost |115 steps | GridProblem\n",
      "    1,686 explored |    226 goal |  124 cost |115 steps | GridProblem\n",
      "    1,134 explored |    160 goal |  123 cost |115 steps | GridProblem\n",
      "      909 explored |    134 goal |  122 cost |115 steps | GridProblem\n",
      "       38 explored |     15 goal |    7 cost |  7 steps | EightPuzzle\n",
      "   23,976 explored |  8,942 goal |   23 cost | 23 steps | EightPuzzle\n",
      "   35,519 explored | 13,262 goal |   24 cost | 24 steps | EightPuzzle\n",
      "   13,937 explored |  5,184 goal |   22 cost | 22 steps | EightPuzzle\n",
      "   78,637 explored | 28,143 goal | 3177 cost |561 steps | TOTAL\n",
      "\n",
      "uniform_cost_search:\n",
      "       33 explored |     14 goal |  418 cost |  4 steps | RouteProblem\n",
      "       43 explored |     20 goal |  910 cost |  9 steps | RouteProblem\n",
      "       45 explored |     21 goal |  805 cost |  8 steps | RouteProblem\n",
      "       32 explored |     13 goal |  445 cost |  5 steps | RouteProblem\n",
      "  327,708 explored | 41,180 goal |  121 cost |115 steps | GridProblem\n",
      "  338,093 explored | 42,714 goal |  124 cost |115 steps | GridProblem\n",
      "  321,582 explored | 40,817 goal |  122 cost |115 steps | GridProblem\n",
      "  311,392 explored | 39,654 goal |  121 cost |115 steps | GridProblem\n",
      "      335 explored |    125 goal |    7 cost |  7 steps | EightPuzzle\n",
      "  279,376 explored |103,883 goal |   23 cost | 23 steps | EightPuzzle\n",
      "  325,288 explored |121,026 goal |   24 cost | 24 steps | EightPuzzle\n",
      "  206,476 explored | 76,711 goal |   22 cost | 22 steps | EightPuzzle\n",
      "2,110,403 explored |466,178 goal | 3142 cost |562 steps | TOTAL\n",
      "\n"
     ]
    }
   ],
   "source": [
    "report((astar_search, greedy_bfs, weighted_astar_search, uniform_cost_search), \n",
    "       (r1, r2, r3, r4, d1, d2, d3, d4, e1, e2, e3, e4)) # The problems with a heuristic"
   ]
  },
  {
   "cell_type": "markdown",
   "metadata": {},
   "source": [
    "This time we see that A* is an order of magnitude more efficient than the uninformed algorithms. Again,  uniform cost is optimal, but breadth-first is not."
   ]
  },
  {
   "cell_type": "markdown",
   "metadata": {},
   "source": [
    "# Visualizing Reached States\n",
    "\n",
    "Below we compare three algorithms on grid problems:\n",
    "- A* search: *f = g + h*\n",
    "- Weighted A* search: *f = g + D &times; h*\n",
    "- Greedy best-first search: *f = h*\n",
    "\n",
    "We need to know the states that have been reached, but the *reached* variable is inaccessible inside `best_first_search`, so we will define a new version of `best_first_search` that is identical except that it declares *reached* to be `global`, so that we can access the states. "
   ]
  },
  {
   "cell_type": "code",
   "execution_count": 192,
   "metadata": {},
   "outputs": [],
   "source": [
    "def plot_grid_problem(grid, solution, reached=(), title='Search'):\n",
    "    \"Use matplotlib to plot the grid, obstacles, solution, and reached.\"\n",
    "    plt.figure(figsize=(15, 6))\n",
    "    plt.axis('off'); plt.axis('equal')\n",
    "    plt.scatter(*transpose(grid.obstacles), marker='s', color='darkgrey')\n",
    "    plt.scatter(*transpose([grid.initial, grid.goal]), 9**2, marker='D', c='red')\n",
    "    plt.scatter(*transpose(reached), 2**2, marker='.', c='blue')\n",
    "    plt.scatter(*transpose(path_states(solution)), marker='s', c='black')\n",
    "    plt.show()\n",
    "    print('{} {} search: {:.1f} cost, {:,d} explored'\n",
    "          .format(' ' * 10, title, solution.path_cost, len(reached)))\n",
    "    \n",
    "def transpose(matrix): return list(zip(*matrix))\n",
    "\n",
    "def best_first_search(problem, f):\n",
    "    \"Search nodes with minimum f(node) value first; make `reached` global.\"\n",
    "    global reached # <<<<<<<<<<< Only change here\n",
    "    frontier = PriorityQueue([Node(problem.initial)], key=f)\n",
    "    reached = {}\n",
    "    while frontier:\n",
    "        node = frontier.pop()\n",
    "        if problem.is_goal(node.state):\n",
    "            return node\n",
    "        if node.state in reached and node.path_cost > reached[node.state].path_cost:\n",
    "            continue\n",
    "        for child in expand(problem, node):\n",
    "            s = child.state\n",
    "            if s not in reached or child.path_cost < reached[s].path_cost:\n",
    "                reached[s] = child\n",
    "                frontier.add(child)\n",
    "    return failure\n",
    "\n",
    "def plot3(grid): \n",
    "    \"\"\"Plot the results of 3 search algorithms for this grid.\"\"\"\n",
    "    solution = astar_search(grid)\n",
    "    plot_grid_problem(grid, solution, reached, '(a) A*')\n",
    "    solution = weighted_astar_search(grid, 1.9)\n",
    "    plot_grid_problem(grid, solution, reached, '(b) Weighted A*')\n",
    "    solution = greedy_bfs(grid)\n",
    "    plot_grid_problem(grid, solution, reached, '(c) Greedy best-first')"
   ]
  },
  {
   "cell_type": "code",
   "execution_count": 193,
   "metadata": {},
   "outputs": [
    {
     "data": {
      "image/png": "[encoded data removed]",
      "text/plain": [
       "<Figure size 1080x432 with 1 Axes>"
      ]
     },
     "metadata": {
      "needs_background": "light"
     },
     "output_type": "display_data"
    },
    {
     "name": "stdout",
     "output_type": "stream",
     "text": [
      "           (a) A* search: 128.3 cost, 2,710 explored\n"
     ]
    },
    {
     "data": {
      "image/png": "[encoded data removed]",
      "text/plain": [
       "<Figure size 1080x432 with 1 Axes>"
      ]
     },
     "metadata": {
      "needs_background": "light"
     },
     "output_type": "display_data"
    },
    {
     "name": "stdout",
     "output_type": "stream",
     "text": [
      "           (b) Weighted A* search: 134.3 cost, 473 explored\n"
     ]
    },
    {
     "data": {
      "image/png": "[encoded data removed]",
      "text/plain": [
       "<Figure size 1080x432 with 1 Axes>"
      ]
     },
     "metadata": {
      "needs_background": "light"
     },
     "output_type": "display_data"
    },
    {
     "name": "stdout",
     "output_type": "stream",
     "text": [
      "           (c) Greedy best-first search: 141.7 cost, 407 explored\n"
     ]
    }
   ],
   "source": [
    "random.seed(42)\n",
    "plot3(GridProblem(obstacles=random_lines(N=200)))"
   ]
  },
  {
   "cell_type": "code",
   "execution_count": 194,
   "metadata": {},
   "outputs": [
    {
     "data": {
      "image/png": "[encoded data removed]",
      "text/plain": [
       "<Figure size 1080x432 with 1 Axes>"
      ]
     },
     "metadata": {
      "needs_background": "light"
     },
     "output_type": "display_data"
    },
    {
     "name": "stdout",
     "output_type": "stream",
     "text": [
      "           (a) A* search: 124.1 cost, 3,305 explored\n"
     ]
    },
    {
     "data": {
      "image/png": "[encoded data removed]",
      "text/plain": [
       "<Figure size 1080x432 with 1 Axes>"
      ]
     },
     "metadata": {
      "needs_background": "light"
     },
     "output_type": "display_data"
    },
    {
     "name": "stdout",
     "output_type": "stream",
     "text": [
      "           (b) Weighted A* search: 128.0 cost, 891 explored\n"
     ]
    },
    {
     "data": {
      "image/png": "[encoded data removed]",
      "text/plain": [
       "<Figure size 1080x432 with 1 Axes>"
      ]
     },
     "metadata": {
      "needs_background": "light"
     },
     "output_type": "display_data"
    },
    {
     "name": "stdout",
     "output_type": "stream",
     "text": [
      "           (c) Greedy best-first search: 133.9 cost, 758 explored\n"
     ]
    }
   ],
   "source": [
    "U = (line((102, 44), (-1, 0), 15) | line((102, 20), (-1, 0), 20) | line((102, 44), (0, -1), 24))\n",
    "plot3(GridProblem(obstacles=U))"
   ]
  },
  {
   "cell_type": "code",
   "execution_count": 195,
   "metadata": {},
   "outputs": [
    {
     "data": {
      "image/png": "[encoded data removed]",
      "text/plain": [
       "<Figure size 1080x432 with 1 Axes>"
      ]
     },
     "metadata": {
      "needs_background": "light"
     },
     "output_type": "display_data"
    },
    {
     "name": "stdout",
     "output_type": "stream",
     "text": [
      "           (a) A* search: 127.4 cost, 4,058 explored\n"
     ]
    },
    {
     "data": {
      "image/png": "[encoded data removed]",
      "text/plain": [
       "<Figure size 1080x432 with 1 Axes>"
      ]
     },
     "metadata": {
      "needs_background": "light"
     },
     "output_type": "display_data"
    },
    {
     "name": "stdout",
     "output_type": "stream",
     "text": [
      "           (b) Weighted A* search: 139.8 cost, 987 explored\n"
     ]
    },
    {
     "data": {
      "image/png": "[encoded data removed]",
      "text/plain": [
       "<Figure size 1080x432 with 1 Axes>"
      ]
     },
     "metadata": {
      "needs_background": "light"
     },
     "output_type": "display_data"
    },
    {
     "name": "stdout",
     "output_type": "stream",
     "text": [
      "           (c) Greedy best-first search: 151.6 cost, 830 explored\n"
     ]
    }
   ],
   "source": [
    "U2 = U | (line((50, 35), (0, -1), 10) | line((60, 37), (0, -1), 17) |\n",
    "          line((70, 31), (0, -1), 19) | line((5, 5), (0, 1), 50))\n",
    "plot3(GridProblem(obstacles=U2))"
   ]
  },
  {
   "cell_type": "markdown",
   "metadata": {},
   "source": [
    "Above, the A* algorithm finds the optiaml solution. The weighted A* gerts fooled by the first barrier, and erroneously goes below it, because that takes it less far away from the goal. It then errs again, opting to again head towards the goal and go above the third barrier, whereas at this point it would be optimal to continue the lower route. The greedy best-first search makes many mistakes, continually moving back towards the centerline rather than planning ahead."
   ]
  },
  {
   "cell_type": "code",
   "execution_count": null,
   "metadata": {},
   "outputs": [],
   "source": []
  }
 ],
 "metadata": {
  "kernelspec": {
   "display_name": "Python 3",
   "language": "python",
   "name": "python3"
  },
  "language_info": {
   "codemirror_mode": {
    "name": "ipython",
    "version": 3
   },
   "file_extension": ".py",
   "mimetype": "text/x-python",
   "name": "python",
   "nbconvert_exporter": "python",
   "pygments_lexer": "ipython3",
   "version": "3.7.0"
  }
 },
 "nbformat": 4,
 "nbformat_minor": 2
}
